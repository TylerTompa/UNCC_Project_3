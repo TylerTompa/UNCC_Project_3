{
 "cells": [
  {
   "cell_type": "code",
   "execution_count": 2,
   "metadata": {},
   "outputs": [],
   "source": [
    "%matplotlib inline\n",
    "\n",
    "import pandas as pd\n",
    "import numpy as np\n",
    "import matplotlib.pyplot as plt\n",
    "import seaborn as sns"
   ]
  },
  {
   "cell_type": "code",
   "execution_count": 3,
   "metadata": {},
   "outputs": [],
   "source": [
    "# Create dataframe from local csv file\n",
    "stroke_data_original =pd.read_csv('../Data/train_2v.csv')"
   ]
  },
  {
   "cell_type": "markdown",
   "metadata": {},
   "source": [
    "# We will start by preview our data and determing what kind of problem we have. "
   ]
  },
  {
   "cell_type": "code",
   "execution_count": 4,
   "metadata": {
    "scrolled": true
   },
   "outputs": [
    {
     "data": {
      "text/html": [
       "<div>\n",
       "<style scoped>\n",
       "    .dataframe tbody tr th:only-of-type {\n",
       "        vertical-align: middle;\n",
       "    }\n",
       "\n",
       "    .dataframe tbody tr th {\n",
       "        vertical-align: top;\n",
       "    }\n",
       "\n",
       "    .dataframe thead th {\n",
       "        text-align: right;\n",
       "    }\n",
       "</style>\n",
       "<table border=\"1\" class=\"dataframe\">\n",
       "  <thead>\n",
       "    <tr style=\"text-align: right;\">\n",
       "      <th></th>\n",
       "      <th>id</th>\n",
       "      <th>gender</th>\n",
       "      <th>age</th>\n",
       "      <th>hypertension</th>\n",
       "      <th>heart_disease</th>\n",
       "      <th>ever_married</th>\n",
       "      <th>work_type</th>\n",
       "      <th>Residence_type</th>\n",
       "      <th>avg_glucose_level</th>\n",
       "      <th>bmi</th>\n",
       "      <th>smoking_status</th>\n",
       "      <th>stroke</th>\n",
       "    </tr>\n",
       "  </thead>\n",
       "  <tbody>\n",
       "    <tr>\n",
       "      <th>0</th>\n",
       "      <td></td>\n",
       "      <td>Male</td>\n",
       "      <td>3.0</td>\n",
       "      <td>0</td>\n",
       "      <td>0</td>\n",
       "      <td>No</td>\n",
       "      <td>children</td>\n",
       "      <td>Rural</td>\n",
       "      <td>95.12</td>\n",
       "      <td>18.0</td>\n",
       "      <td>NaN</td>\n",
       "      <td>0</td>\n",
       "    </tr>\n",
       "    <tr>\n",
       "      <th>1</th>\n",
       "      <td>30468</td>\n",
       "      <td>Male</td>\n",
       "      <td>58.0</td>\n",
       "      <td>1</td>\n",
       "      <td>0</td>\n",
       "      <td>Yes</td>\n",
       "      <td>Private</td>\n",
       "      <td>Urban</td>\n",
       "      <td>87.96</td>\n",
       "      <td>39.2</td>\n",
       "      <td>never smoked</td>\n",
       "      <td>0</td>\n",
       "    </tr>\n",
       "    <tr>\n",
       "      <th>2</th>\n",
       "      <td>16523</td>\n",
       "      <td>Female</td>\n",
       "      <td>8.0</td>\n",
       "      <td>0</td>\n",
       "      <td>0</td>\n",
       "      <td>No</td>\n",
       "      <td>Private</td>\n",
       "      <td>Urban</td>\n",
       "      <td>110.89</td>\n",
       "      <td>17.6</td>\n",
       "      <td>NaN</td>\n",
       "      <td>0</td>\n",
       "    </tr>\n",
       "    <tr>\n",
       "      <th>3</th>\n",
       "      <td>56543</td>\n",
       "      <td>Female</td>\n",
       "      <td>70.0</td>\n",
       "      <td>0</td>\n",
       "      <td>0</td>\n",
       "      <td>Yes</td>\n",
       "      <td>Private</td>\n",
       "      <td>Rural</td>\n",
       "      <td>69.04</td>\n",
       "      <td>35.9</td>\n",
       "      <td>formerly smoked</td>\n",
       "      <td>0</td>\n",
       "    </tr>\n",
       "    <tr>\n",
       "      <th>4</th>\n",
       "      <td>46136</td>\n",
       "      <td>Male</td>\n",
       "      <td>14.0</td>\n",
       "      <td>0</td>\n",
       "      <td>0</td>\n",
       "      <td>No</td>\n",
       "      <td>Never_worked</td>\n",
       "      <td>Rural</td>\n",
       "      <td>161.28</td>\n",
       "      <td>19.1</td>\n",
       "      <td>NaN</td>\n",
       "      <td>0</td>\n",
       "    </tr>\n",
       "  </tbody>\n",
       "</table>\n",
       "</div>"
      ],
      "text/plain": [
       "      id  gender   age  hypertension  heart_disease ever_married  \\\n",
       "0           Male   3.0             0              0           No   \n",
       "1  30468    Male  58.0             1              0          Yes   \n",
       "2  16523  Female   8.0             0              0           No   \n",
       "3  56543  Female  70.0             0              0          Yes   \n",
       "4  46136    Male  14.0             0              0           No   \n",
       "\n",
       "      work_type Residence_type  avg_glucose_level   bmi   smoking_status  \\\n",
       "0      children          Rural              95.12  18.0              NaN   \n",
       "1       Private          Urban              87.96  39.2     never smoked   \n",
       "2       Private          Urban             110.89  17.6              NaN   \n",
       "3       Private          Rural              69.04  35.9  formerly smoked   \n",
       "4  Never_worked          Rural             161.28  19.1              NaN   \n",
       "\n",
       "   stroke  \n",
       "0       0  \n",
       "1       0  \n",
       "2       0  \n",
       "3       0  \n",
       "4       0  "
      ]
     },
     "execution_count": 4,
     "metadata": {},
     "output_type": "execute_result"
    }
   ],
   "source": [
    "# Preview dataframe\n",
    "stroke_data_original.head()"
   ]
  },
  {
   "cell_type": "code",
   "execution_count": 5,
   "metadata": {},
   "outputs": [
    {
     "data": {
      "text/plain": [
       "(43400, 12)"
      ]
     },
     "execution_count": 5,
     "metadata": {},
     "output_type": "execute_result"
    }
   ],
   "source": [
    "# Get shape of dataframe\n",
    "stroke_data_original.shape"
   ]
  },
  {
   "cell_type": "code",
   "execution_count": 6,
   "metadata": {},
   "outputs": [
    {
     "data": {
      "text/plain": [
       "783"
      ]
     },
     "execution_count": 6,
     "metadata": {},
     "output_type": "execute_result"
    }
   ],
   "source": [
    "# Get the number of indiviudals who had a stroke.\n",
    "number_of_people_who_had_a_stroke = len(stroke_data_original[stroke_data_original[\"stroke\"] == 1])\n",
    "number_of_people_who_had_a_stroke"
   ]
  },
  {
   "cell_type": "code",
   "execution_count": 8,
   "metadata": {},
   "outputs": [
    {
     "data": {
      "text/plain": [
       "1.804147465437788"
      ]
     },
     "execution_count": 8,
     "metadata": {},
     "output_type": "execute_result"
    }
   ],
   "source": [
    "# Get the percentage of people who had a stroke\n",
    "percentage_of_people_who_had_a_stroke = (number_of_people_who_had_a_stroke / len(stroke_data_original) ) * 100\n",
    "percentage_of_people_who_had_a_stroke"
   ]
  },
  {
   "cell_type": "markdown",
   "metadata": {},
   "source": [
    " # After previewing our data, we see that we have a classification problem.  We will determine what the most appropriate features are, and use these to predict whether an individual will have a stroke.\n",
    " \n",
    " # We also notice that only about 1.8% of the individuals in our dataset had a stroke.  We will have to find a way to deal with imbalanced data."
   ]
  },
  {
   "cell_type": "markdown",
   "metadata": {},
   "source": [
    "# 1. Prework / Data Cleansing"
   ]
  },
  {
   "cell_type": "code",
   "execution_count": 9,
   "metadata": {},
   "outputs": [
    {
     "data": {
      "text/html": [
       "<div>\n",
       "<style scoped>\n",
       "    .dataframe tbody tr th:only-of-type {\n",
       "        vertical-align: middle;\n",
       "    }\n",
       "\n",
       "    .dataframe tbody tr th {\n",
       "        vertical-align: top;\n",
       "    }\n",
       "\n",
       "    .dataframe thead th {\n",
       "        text-align: right;\n",
       "    }\n",
       "</style>\n",
       "<table border=\"1\" class=\"dataframe\">\n",
       "  <thead>\n",
       "    <tr style=\"text-align: right;\">\n",
       "      <th></th>\n",
       "      <th>gender</th>\n",
       "      <th>age</th>\n",
       "      <th>hypertension</th>\n",
       "      <th>heart_disease</th>\n",
       "      <th>ever_married</th>\n",
       "      <th>work_type</th>\n",
       "      <th>Residence_type</th>\n",
       "      <th>avg_glucose_level</th>\n",
       "      <th>bmi</th>\n",
       "      <th>smoking_status</th>\n",
       "      <th>stroke</th>\n",
       "    </tr>\n",
       "  </thead>\n",
       "  <tbody>\n",
       "    <tr>\n",
       "      <th>0</th>\n",
       "      <td>Male</td>\n",
       "      <td>3.0</td>\n",
       "      <td>0</td>\n",
       "      <td>0</td>\n",
       "      <td>No</td>\n",
       "      <td>children</td>\n",
       "      <td>Rural</td>\n",
       "      <td>95.12</td>\n",
       "      <td>18.0</td>\n",
       "      <td>NaN</td>\n",
       "      <td>0</td>\n",
       "    </tr>\n",
       "    <tr>\n",
       "      <th>1</th>\n",
       "      <td>Male</td>\n",
       "      <td>58.0</td>\n",
       "      <td>1</td>\n",
       "      <td>0</td>\n",
       "      <td>Yes</td>\n",
       "      <td>Private</td>\n",
       "      <td>Urban</td>\n",
       "      <td>87.96</td>\n",
       "      <td>39.2</td>\n",
       "      <td>never smoked</td>\n",
       "      <td>0</td>\n",
       "    </tr>\n",
       "    <tr>\n",
       "      <th>2</th>\n",
       "      <td>Female</td>\n",
       "      <td>8.0</td>\n",
       "      <td>0</td>\n",
       "      <td>0</td>\n",
       "      <td>No</td>\n",
       "      <td>Private</td>\n",
       "      <td>Urban</td>\n",
       "      <td>110.89</td>\n",
       "      <td>17.6</td>\n",
       "      <td>NaN</td>\n",
       "      <td>0</td>\n",
       "    </tr>\n",
       "    <tr>\n",
       "      <th>3</th>\n",
       "      <td>Female</td>\n",
       "      <td>70.0</td>\n",
       "      <td>0</td>\n",
       "      <td>0</td>\n",
       "      <td>Yes</td>\n",
       "      <td>Private</td>\n",
       "      <td>Rural</td>\n",
       "      <td>69.04</td>\n",
       "      <td>35.9</td>\n",
       "      <td>formerly smoked</td>\n",
       "      <td>0</td>\n",
       "    </tr>\n",
       "    <tr>\n",
       "      <th>4</th>\n",
       "      <td>Male</td>\n",
       "      <td>14.0</td>\n",
       "      <td>0</td>\n",
       "      <td>0</td>\n",
       "      <td>No</td>\n",
       "      <td>Never_worked</td>\n",
       "      <td>Rural</td>\n",
       "      <td>161.28</td>\n",
       "      <td>19.1</td>\n",
       "      <td>NaN</td>\n",
       "      <td>0</td>\n",
       "    </tr>\n",
       "  </tbody>\n",
       "</table>\n",
       "</div>"
      ],
      "text/plain": [
       "   gender   age  hypertension  heart_disease ever_married     work_type  \\\n",
       "0    Male   3.0             0              0           No      children   \n",
       "1    Male  58.0             1              0          Yes       Private   \n",
       "2  Female   8.0             0              0           No       Private   \n",
       "3  Female  70.0             0              0          Yes       Private   \n",
       "4    Male  14.0             0              0           No  Never_worked   \n",
       "\n",
       "  Residence_type  avg_glucose_level   bmi   smoking_status  stroke  \n",
       "0          Rural              95.12  18.0              NaN       0  \n",
       "1          Urban              87.96  39.2     never smoked       0  \n",
       "2          Urban             110.89  17.6              NaN       0  \n",
       "3          Rural              69.04  35.9  formerly smoked       0  \n",
       "4          Rural             161.28  19.1              NaN       0  "
      ]
     },
     "execution_count": 9,
     "metadata": {},
     "output_type": "execute_result"
    }
   ],
   "source": [
    "# We do not want to work with unique identifiers.\n",
    "# We will therefore drop the id column.\n",
    "\n",
    "stroke_data_clean = stroke_data_original.drop([\"id\"], axis=1)\n",
    "stroke_data_clean.head()"
   ]
  },
  {
   "cell_type": "code",
   "execution_count": 10,
   "metadata": {
    "scrolled": true
   },
   "outputs": [
    {
     "data": {
      "text/plain": [
       "gender                   0\n",
       "age                      0\n",
       "hypertension             0\n",
       "heart_disease            0\n",
       "ever_married             0\n",
       "work_type                0\n",
       "Residence_type           0\n",
       "avg_glucose_level        0\n",
       "bmi                   1462\n",
       "smoking_status       13292\n",
       "stroke                   0\n",
       "dtype: int64"
      ]
     },
     "execution_count": 10,
     "metadata": {},
     "output_type": "execute_result"
    }
   ],
   "source": [
    "# Check for NaN values\n",
    "stroke_data_clean.isna().sum()"
   ]
  },
  {
   "cell_type": "code",
   "execution_count": 11,
   "metadata": {},
   "outputs": [
    {
     "data": {
      "text/plain": [
       "3"
      ]
     },
     "execution_count": 11,
     "metadata": {},
     "output_type": "execute_result"
    }
   ],
   "source": [
    "# Get number of unique values in smoking_status column\n",
    "stroke_data_clean[\"smoking_status\"].nunique()"
   ]
  },
  {
   "cell_type": "code",
   "execution_count": 12,
   "metadata": {},
   "outputs": [
    {
     "data": {
      "text/plain": [
       "smoking_status\n",
       "formerly smoked     7493\n",
       "never smoked       16053\n",
       "smokes              6562\n",
       "Name: stroke, dtype: int64"
      ]
     },
     "execution_count": 12,
     "metadata": {},
     "output_type": "execute_result"
    }
   ],
   "source": [
    "stroke_data_clean.groupby(\"smoking_status\").count()[\"stroke\"]"
   ]
  },
  {
   "cell_type": "code",
   "execution_count": 13,
   "metadata": {},
   "outputs": [
    {
     "data": {
      "text/plain": [
       "555"
      ]
     },
     "execution_count": 13,
     "metadata": {},
     "output_type": "execute_result"
    }
   ],
   "source": [
    "# Get number of unique values in bmi column\n",
    "stroke_data_clean[\"bmi\"].nunique()"
   ]
  },
  {
   "cell_type": "markdown",
   "metadata": {},
   "source": [
    "### We are working with NaN data.  We have a few options for what to do."
   ]
  },
  {
   "cell_type": "markdown",
   "metadata": {},
   "source": [
    "### Concerning the bmi values, we could:\n",
    "\n",
    "1. Fill NaN values with the mean bmi value\n",
    "1. Fill NaN values with the median bmi value\n",
    "1. Fill NaN values with the mode bmi value"
   ]
  },
  {
   "cell_type": "code",
   "execution_count": 15,
   "metadata": {},
   "outputs": [
    {
     "name": "stdout",
     "output_type": "stream",
     "text": [
      "Mean: 28.605038390004545,\n",
      "Median: 28.605038390004545,\n",
      "Mode: 27.7\n"
     ]
    }
   ],
   "source": [
    "print(f\"Mean: {stroke_data_clean['bmi'].mean()},\\n\\\n",
    "Median: {stroke_data_clean['bmi'].mean()},\\n\\\n",
    "Mode: {stroke_data_clean.mode()['bmi'][0]}\")"
   ]
  },
  {
   "cell_type": "code",
   "execution_count": 17,
   "metadata": {},
   "outputs": [],
   "source": [
    "# Fill NaN values in the \"bmi\" column with the mean bmi.\n",
    "stroke_data_clean[\"bmi\"].fillna(stroke_data_clean[\"bmi\"].mean(), inplace=True)"
   ]
  },
  {
   "cell_type": "code",
   "execution_count": 18,
   "metadata": {},
   "outputs": [
    {
     "data": {
      "text/plain": [
       "gender                   0\n",
       "age                      0\n",
       "hypertension             0\n",
       "heart_disease            0\n",
       "ever_married             0\n",
       "work_type                0\n",
       "Residence_type           0\n",
       "avg_glucose_level        0\n",
       "bmi                      0\n",
       "smoking_status       13292\n",
       "stroke                   0\n",
       "dtype: int64"
      ]
     },
     "execution_count": 18,
     "metadata": {},
     "output_type": "execute_result"
    }
   ],
   "source": [
    "# Confirm no NaN values in the \"bmi\" column\n",
    "stroke_data_clean.isna().sum()"
   ]
  },
  {
   "cell_type": "markdown",
   "metadata": {},
   "source": [
    "### Concerning the smoking_status values, we could:\n",
    "\n",
    "1. Assume these individuals were ashamed they smoke, and skipped this question.  We would therefore fill these values with \"smokes\"\n",
    "2. Assume these individuals have never smoked and didn't think the question was important, and skipped it.  We would therefore fill these values with \"never_smoked.\""
   ]
  },
  {
   "cell_type": "code",
   "execution_count": 19,
   "metadata": {},
   "outputs": [],
   "source": [
    "# Define two new dataframes based on the cleaned_stroke_data dataframe\n",
    "stroke_data_clean_assume_smokes = stroke_data_clean_assume_never_smoked = stroke_data_clean\n",
    "\n",
    "# Fill NaN values in the \"smoking_status\" column with either \"smoked\" or \"never_smoked,\"\n",
    "# based on our aforementioned assumptions.\n",
    "stroke_data_clean_assume_smokes.fillna(\"smokes\", inplace=True)\n",
    "stroke_data_clean_assume_never_smoked.fillna(\"never_smoked\", inplace=True)\n",
    "\n",
    "# cleaned_stroke_data_assume_smokes = cleaned_stroke_data[\"smoking_status\"].fillna(value=\"smokes\", inplace=True)\n",
    "# cleaned_stroke_data_assume_never_smoked = cleaned_stroke_data[\"smoking_status\"].fillna(value=\"never_smoked\", inplace=True)"
   ]
  },
  {
   "cell_type": "code",
   "execution_count": 21,
   "metadata": {},
   "outputs": [
    {
     "name": "stdout",
     "output_type": "stream",
     "text": [
      "gender               0\n",
      "age                  0\n",
      "hypertension         0\n",
      "heart_disease        0\n",
      "ever_married         0\n",
      "work_type            0\n",
      "Residence_type       0\n",
      "avg_glucose_level    0\n",
      "bmi                  0\n",
      "smoking_status       0\n",
      "stroke               0\n",
      "dtype: int64\n",
      "\n",
      "gender               0\n",
      "age                  0\n",
      "hypertension         0\n",
      "heart_disease        0\n",
      "ever_married         0\n",
      "work_type            0\n",
      "Residence_type       0\n",
      "avg_glucose_level    0\n",
      "bmi                  0\n",
      "smoking_status       0\n",
      "stroke               0\n",
      "dtype: int64\n"
     ]
    }
   ],
   "source": [
    "# Confirm no NaN values after filling in NaN data.\n",
    "print(stroke_data_clean_assume_smokes.isna().sum())\n",
    "print()\n",
    "print(stroke_data_clean_assume_never_smoked.isna().sum())"
   ]
  },
  {
   "cell_type": "code",
   "execution_count": 26,
   "metadata": {},
   "outputs": [
    {
     "name": "stdout",
     "output_type": "stream",
     "text": [
      "3\n",
      "3\n"
     ]
    }
   ],
   "source": [
    "# Confirm we filled smoking_status with correct values\n",
    "# There should be 3 unique values in the smoking_status column\n",
    "print(stroke_data_clean_assume_smokes[\"smoking_status\"].nunique())\n",
    "print(stroke_data_clean_assume_never_smoked[\"smoking_status\"].nunique())"
   ]
  },
  {
   "cell_type": "markdown",
   "metadata": {},
   "source": [
    "### We will now examine the categorical data in this dataset."
   ]
  },
  {
   "cell_type": "code",
   "execution_count": 28,
   "metadata": {},
   "outputs": [
    {
     "name": "stdout",
     "output_type": "stream",
     "text": [
      "Assume smokes\n",
      "gender                object\n",
      "age                  float64\n",
      "hypertension           int64\n",
      "heart_disease          int64\n",
      "ever_married          object\n",
      "work_type             object\n",
      "Residence_type        object\n",
      "avg_glucose_level    float64\n",
      "bmi                  float64\n",
      "smoking_status        object\n",
      "stroke                 int64\n",
      "dtype: object\n",
      "\n",
      "Assume never_smoked\n",
      "gender                object\n",
      "age                  float64\n",
      "hypertension           int64\n",
      "heart_disease          int64\n",
      "ever_married          object\n",
      "work_type             object\n",
      "Residence_type        object\n",
      "avg_glucose_level    float64\n",
      "bmi                  float64\n",
      "smoking_status        object\n",
      "stroke                 int64\n",
      "dtype: object\n"
     ]
    }
   ],
   "source": [
    "# Get the data type for each column\n",
    "print(\"Assume smokes\")\n",
    "print(stroke_data_clean_assume_smokes.dtypes)\n",
    "print()\n",
    "print(\"Assume never_smoked\")\n",
    "print(stroke_data_clean_assume_never_smoked.dtypes)"
   ]
  },
  {
   "cell_type": "code",
   "execution_count": 30,
   "metadata": {
    "scrolled": true
   },
   "outputs": [
    {
     "data": {
      "text/plain": [
       "gender\n",
       "Female    25665\n",
       "Male      17724\n",
       "Other        11\n",
       "Name: stroke, dtype: int64"
      ]
     },
     "execution_count": 30,
     "metadata": {},
     "output_type": "execute_result"
    }
   ],
   "source": [
    "# Get a count of how many values make up each category in the \"gender\" column\n",
    "stroke_data_clean.groupby(\"gender\").count()[\"stroke\"]"
   ]
  },
  {
   "cell_type": "code",
   "execution_count": 32,
   "metadata": {},
   "outputs": [
    {
     "ename": "NameError",
     "evalue": "name 'stroke_data' is not defined",
     "output_type": "error",
     "traceback": [
      "\u001b[1;31m---------------------------------------------------------------------------\u001b[0m",
      "\u001b[1;31mNameError\u001b[0m                                 Traceback (most recent call last)",
      "\u001b[1;32m<ipython-input-32-b3b9e7ca1a01>\u001b[0m in \u001b[0;36m<module>\u001b[1;34m()\u001b[0m\n\u001b[0;32m      1\u001b[0m \u001b[1;31m# Get the stroke status for individiuals in the \"other\" category of the \"gender\" column\u001b[0m\u001b[1;33m\u001b[0m\u001b[1;33m\u001b[0m\u001b[0m\n\u001b[1;32m----> 2\u001b[1;33m \u001b[0mstroke_data\u001b[0m\u001b[1;33m[\u001b[0m\u001b[0mstroke_data\u001b[0m\u001b[1;33m[\u001b[0m\u001b[1;34m\"gender\"\u001b[0m\u001b[1;33m]\u001b[0m \u001b[1;33m==\u001b[0m \u001b[1;34m\"Other\"\u001b[0m\u001b[1;33m]\u001b[0m\u001b[1;33m[\u001b[0m\u001b[1;34m\"stroke\"\u001b[0m\u001b[1;33m]\u001b[0m\u001b[1;33m\u001b[0m\u001b[0m\n\u001b[0m",
      "\u001b[1;31mNameError\u001b[0m: name 'stroke_data' is not defined"
     ]
    }
   ],
   "source": [
    "# Get the stroke status for individiuals in the \"other\" category of the \"gender\" column\n",
    "stroke_data[stroke_data[\"gender\"] == \"Other\"][\"stroke\"]"
   ]
  },
  {
   "cell_type": "code",
   "execution_count": 33,
   "metadata": {},
   "outputs": [
    {
     "ename": "NameError",
     "evalue": "name 'stroke_data' is not defined",
     "output_type": "error",
     "traceback": [
      "\u001b[1;31m---------------------------------------------------------------------------\u001b[0m",
      "\u001b[1;31mNameError\u001b[0m                                 Traceback (most recent call last)",
      "\u001b[1;32m<ipython-input-33-d684034e1e07>\u001b[0m in \u001b[0;36m<module>\u001b[1;34m()\u001b[0m\n\u001b[1;32m----> 1\u001b[1;33m \u001b[0mpercent_of_people_with_gender_other\u001b[0m \u001b[1;33m=\u001b[0m \u001b[1;33m(\u001b[0m\u001b[0mlen\u001b[0m\u001b[1;33m(\u001b[0m\u001b[0mstroke_data\u001b[0m\u001b[1;33m[\u001b[0m\u001b[0mstroke_data\u001b[0m\u001b[1;33m[\u001b[0m\u001b[1;34m\"gender\"\u001b[0m\u001b[1;33m]\u001b[0m \u001b[1;33m==\u001b[0m \u001b[1;34m\"Other\"\u001b[0m\u001b[1;33m]\u001b[0m\u001b[1;33m)\u001b[0m \u001b[1;33m/\u001b[0m \u001b[0mlen\u001b[0m\u001b[1;33m(\u001b[0m\u001b[0mstroke_data\u001b[0m\u001b[1;33m)\u001b[0m\u001b[1;33m)\u001b[0m \u001b[1;33m*\u001b[0m \u001b[1;36m100\u001b[0m\u001b[1;33m\u001b[0m\u001b[0m\n\u001b[0m\u001b[0;32m      2\u001b[0m \u001b[0mpercent_of_people_with_gender_other\u001b[0m\u001b[1;33m\u001b[0m\u001b[0m\n",
      "\u001b[1;31mNameError\u001b[0m: name 'stroke_data' is not defined"
     ]
    }
   ],
   "source": [
    "percent_of_people_with_gender_other = (len(stroke_data[stroke_data[\"gender\"] == \"Other\"]) / len(stroke_data)) * 100\n",
    "percent_of_people_with_gender_other"
   ]
  },
  {
   "cell_type": "markdown",
   "metadata": {},
   "source": [
    "We have 9 indiviudals whose value for \"gender\" is \"other.\"  Every one of these individuals have a value of 0 for \"stroke.\"  We opt to drop these 9 values, as it could confuse the Machine Learning model into believing that a gender of \"other\" will cause a value of 0 for \"stroke.\"  These 9 rows make up about 0.03% of the dataset."
   ]
  },
  {
   "cell_type": "code",
   "execution_count": 34,
   "metadata": {},
   "outputs": [
    {
     "ename": "NameError",
     "evalue": "name 'stroke_data' is not defined",
     "output_type": "error",
     "traceback": [
      "\u001b[1;31m---------------------------------------------------------------------------\u001b[0m",
      "\u001b[1;31mNameError\u001b[0m                                 Traceback (most recent call last)",
      "\u001b[1;32m<ipython-input-34-5e2f6b20ed96>\u001b[0m in \u001b[0;36m<module>\u001b[1;34m()\u001b[0m\n\u001b[0;32m      1\u001b[0m \u001b[1;31m# Get a count of how many values make up each category in the \"ever_married\" column\u001b[0m\u001b[1;33m\u001b[0m\u001b[1;33m\u001b[0m\u001b[0m\n\u001b[1;32m----> 2\u001b[1;33m \u001b[0mstroke_data\u001b[0m\u001b[1;33m.\u001b[0m\u001b[0mgroupby\u001b[0m\u001b[1;33m(\u001b[0m\u001b[1;34m\"ever_married\"\u001b[0m\u001b[1;33m)\u001b[0m\u001b[1;33m.\u001b[0m\u001b[0mcount\u001b[0m\u001b[1;33m(\u001b[0m\u001b[1;33m)\u001b[0m\u001b[1;33m[\u001b[0m\u001b[1;34m\"stroke\"\u001b[0m\u001b[1;33m]\u001b[0m\u001b[1;33m\u001b[0m\u001b[0m\n\u001b[0m",
      "\u001b[1;31mNameError\u001b[0m: name 'stroke_data' is not defined"
     ]
    }
   ],
   "source": [
    "# Get a count of how many values make up each category in the \"ever_married\" column\n",
    "stroke_data.groupby(\"ever_married\").count()[\"stroke\"]"
   ]
  },
  {
   "cell_type": "code",
   "execution_count": null,
   "metadata": {},
   "outputs": [],
   "source": [
    "# Get a count of how many values make up each category in the \"work_type\" column\n",
    "stroke_data.groupby(\"work_type\").count()[\"stroke\"]"
   ]
  },
  {
   "cell_type": "code",
   "execution_count": null,
   "metadata": {},
   "outputs": [],
   "source": [
    "# Get a count of how many values make up each category in the \"Residence_type\" column\n",
    "stroke_data.groupby(\"Residence_type\").count()[\"stroke\"]"
   ]
  },
  {
   "cell_type": "code",
   "execution_count": null,
   "metadata": {},
   "outputs": [],
   "source": [
    "# Get a count of how many values make up each category in the \"smoking_status\" column\n",
    "stroke_data.groupby(\"smoking_status\").count()[\"stroke\"]"
   ]
  },
  {
   "cell_type": "markdown",
   "metadata": {},
   "source": [
    "## 2. Data Exploration"
   ]
  },
  {
   "cell_type": "code",
   "execution_count": 112,
   "metadata": {},
   "outputs": [
    {
     "data": {
      "text/plain": [
       "Text(0.5,1.05,'Count of indiviudals who had a stroke\\n1 corresponds to \"had a stroke\"')"
      ]
     },
     "execution_count": 112,
     "metadata": {},
     "output_type": "execute_result"
    },
    {
     "data": {
      "image/png": "[encoded data removed]",
      "text/plain": [
       "<Figure size 1440x360 with 2 Axes>"
      ]
     },
     "metadata": {},
     "output_type": "display_data"
    }
   ],
   "source": [
    "# Make a bar plot to see count of how many people did and did not have a stroke\n",
    "plt.subplots(figsize=(20,5))\n",
    "\n",
    "plt.subplot(1,2,1)\n",
    "stroke_data_clean_assume_smokes.stroke.value_counts().plot(kind=\"bar\")\n",
    "plt.title(\"NaN filled with smoked\")\n",
    "\n",
    "plt.subplot(1,2,2)\n",
    "stroke_data_clean_assume_never_smoked.stroke.value_counts().plot(kind=\"bar\")\n",
    "plt.title(\"NaN filled with never_smoked\")\n",
    "\n",
    "plt.suptitle(\"Count of indiviudals who had a stroke\\n1 corresponds to \\\"had a stroke\\\"\", x=0.5, y=1.05)"
   ]
  },
  {
   "cell_type": "code",
   "execution_count": 48,
   "metadata": {},
   "outputs": [],
   "source": [
    "# Create list of possible categorical features\n",
    "possible_categorical_features = [\"gender\",\n",
    "                                 \"hypertension\",\n",
    "                                 \"heart_disease\",\n",
    "                                 \"ever_married\",\n",
    "                                 \"work_type\",\n",
    "                                 \"Residence_type\",\n",
    "                                 \"smoking_status\"]\n",
    "\n",
    "# Create list of possible numerical features\n",
    "possible_numerical_features = [\"age\",\n",
    "                               \"avg_glucose_level\",\n",
    "                               \"bmi\"]"
   ]
  },
  {
   "cell_type": "markdown",
   "metadata": {},
   "source": [
    "### Categorical Analysis"
   ]
  },
  {
   "cell_type": "code",
   "execution_count": 70,
   "metadata": {},
   "outputs": [
    {
     "name": "stderr",
     "output_type": "stream",
     "text": [
      "C:\\Users\\tyler\\Anaconda3\\lib\\site-packages\\matplotlib\\cbook\\deprecation.py:107: MatplotlibDeprecationWarning: Adding an axes using the same arguments as a previous axes currently reuses the earlier instance.  In a future version, a new instance will always be created and returned.  Meanwhile, this warning can be suppressed, and the future behavior ensured, by passing a unique label to each axes instance.\n",
      "  warnings.warn(message, mplDeprecation, stacklevel=1)\n",
      "C:\\Users\\tyler\\Anaconda3\\lib\\site-packages\\matplotlib\\cbook\\deprecation.py:107: MatplotlibDeprecationWarning: Adding an axes using the same arguments as a previous axes currently reuses the earlier instance.  In a future version, a new instance will always be created and returned.  Meanwhile, this warning can be suppressed, and the future behavior ensured, by passing a unique label to each axes instance.\n",
      "  warnings.warn(message, mplDeprecation, stacklevel=1)\n",
      "C:\\Users\\tyler\\Anaconda3\\lib\\site-packages\\matplotlib\\cbook\\deprecation.py:107: MatplotlibDeprecationWarning: Adding an axes using the same arguments as a previous axes currently reuses the earlier instance.  In a future version, a new instance will always be created and returned.  Meanwhile, this warning can be suppressed, and the future behavior ensured, by passing a unique label to each axes instance.\n",
      "  warnings.warn(message, mplDeprecation, stacklevel=1)\n",
      "C:\\Users\\tyler\\Anaconda3\\lib\\site-packages\\matplotlib\\cbook\\deprecation.py:107: MatplotlibDeprecationWarning: Adding an axes using the same arguments as a previous axes currently reuses the earlier instance.  In a future version, a new instance will always be created and returned.  Meanwhile, this warning can be suppressed, and the future behavior ensured, by passing a unique label to each axes instance.\n",
      "  warnings.warn(message, mplDeprecation, stacklevel=1)\n",
      "C:\\Users\\tyler\\Anaconda3\\lib\\site-packages\\matplotlib\\cbook\\deprecation.py:107: MatplotlibDeprecationWarning: Adding an axes using the same arguments as a previous axes currently reuses the earlier instance.  In a future version, a new instance will always be created and returned.  Meanwhile, this warning can be suppressed, and the future behavior ensured, by passing a unique label to each axes instance.\n",
      "  warnings.warn(message, mplDeprecation, stacklevel=1)\n",
      "C:\\Users\\tyler\\Anaconda3\\lib\\site-packages\\matplotlib\\cbook\\deprecation.py:107: MatplotlibDeprecationWarning: Adding an axes using the same arguments as a previous axes currently reuses the earlier instance.  In a future version, a new instance will always be created and returned.  Meanwhile, this warning can be suppressed, and the future behavior ensured, by passing a unique label to each axes instance.\n",
      "  warnings.warn(message, mplDeprecation, stacklevel=1)\n"
     ]
    },
    {
     "data": {
      "image/png": "[encoded data removed]",
      "text/plain": [
       "<Figure size 1440x5400 with 22 Axes>"
      ]
     },
     "metadata": {},
     "output_type": "display_data"
    }
   ],
   "source": [
    "# Define a subplot so we can see each plot after data-cleansing compared to the original dataset\n",
    "plt.subplots(figsize=(20,75))\n",
    "\n",
    "# Define an iterator to place each sublplot in the right place\n",
    "i = 1\n",
    "\n",
    "# Define dataframes of filtered data\n",
    "stroke_data_clean_assume_smokes_stroke_true = stroke_data_clean_assume_smokes[stroke_data_clean_assume_smokes[\"stroke\"] == 1]\n",
    "stroke_data_clean_assume_never_smoked_stroke_true = stroke_data_clean_assume_never_smoked[stroke_data_clean_assume_never_smoked[\"stroke\"] == 1]\n",
    "\n",
    "for possible_feature in possible_categorical_features:\n",
    "    \n",
    "    plt.subplot(14,2,i)\n",
    "    sns.countplot(possible_feature, data=stroke_data_clean_assume_smokes)\n",
    "    plt.title(\"Assume Smokes / Complete Data\")\n",
    "    \n",
    "    plt.subplot(14,2,i+1)\n",
    "    sns.countplot(possible_feature, data=stroke_data_clean_assume_smokes_stroke_true)\n",
    "    plt.title(\"Assume Smokes / Only those who had stroke\")\n",
    "    \n",
    "    plt.subplot(14,2,i+2)\n",
    "    sns.countplot(possible_feature, data=stroke_data_clean_assume_never_smoked)\n",
    "    plt.title(\"Assume never_smokes / Complete Data\")\n",
    "    \n",
    "    plt.subplot(14,2,i+3)\n",
    "    sns.countplot(possible_feature, data=stroke_data_clean_assume_never_smoked_stroke_true)\n",
    "    plt.title(\"Assume never_smokes / Only those who had a stroke\")\n",
    "    \n",
    "    # This plot is comprised of 3 rows and two columns.\n",
    "    # When placing each subplot we must specify it's position on the full plot.\n",
    "    # We place each subplot with the syntax (\"row\", \"column\", \"position\").\n",
    "    # The first subplot (position 1) falls in the first column of the first row.\n",
    "    # The next subplot (position 2) falls in the next column of the first row.\n",
    "    # The next subplot (position 3) falls in the first column of the second row.\n",
    "    # This pattern continues.\n",
    "    # We have two columnns,\n",
    "    # so the graph showing the data after data-cleansing will be in the first column (odd-numberd position),\n",
    "    # and the graph showing the data from the original dataset will be in the second column (even-numbered position).\n",
    "    # We then place graphs after data-cleansing with the syntax (2, 3, i),\n",
    "    # and we place graphs showing original data with the syntax (2, 3, i+1).\n",
    "    # We therefore increment our iterator by 2 to preserve its parity.\n",
    "    i += 3"
   ]
  },
  {
   "cell_type": "code",
   "execution_count": 64,
   "metadata": {},
   "outputs": [],
   "source": [
    "# for possible_feature in possible_categorical_features:\n",
    "#     sns.countplot(possible_feature, data=stroke_data_clean[stroke_data_clean[\"stroke\"] == 1])\n",
    "#     plt.title(f\"Feature: {possible_feature}\")\n",
    "#     plt.show()"
   ]
  },
  {
   "cell_type": "markdown",
   "metadata": {},
   "source": [
    "#### We already know that very few individuals are in the \"had a stroke\" category.  From the bar plots above, we also notice that\n",
    "\n",
    "1. Very few individuals fall in the \"has hypertension\" category\n",
    "2. Very few individuals fall in the \"has heart disease\" category\n",
    "3. Relatively few individuals fall in the \"not ever married\" category\n",
    "\n",
    "#### In addition to this, we notice that,\n",
    "1. Individuals whose work type is \"children\", \"government job,\" or \"self-employed\" make up varying degrees of small categories.\n",
    "2. While there are fewer individuals in the \"formerly smoked\" and \"smokes\" categories than those in the \"never smoked\" category, the first two aforementioned categories are not as drastically small as the small categories already mentioned.\n",
    "3. The \"urban residence type\" and \"rural residence type\" categories are approximately the same size."
   ]
  },
  {
   "cell_type": "markdown",
   "metadata": {},
   "source": [
    "### Numerical Analysis"
   ]
  },
  {
   "cell_type": "code",
   "execution_count": null,
   "metadata": {},
   "outputs": [],
   "source": [
    "# Get kdeplot for each possible numerical feature\n",
    "for possible_feature in possible_numerical_features:\n",
    "    sns.kdeplot(stroke_data[possible_feature])\n",
    "    plt.title(f\"Feature: {possible_feature}\\nMode: {round(stroke_data.mode()[possible_feature][0], 2)}\")\n",
    "    plt.show()"
   ]
  },
  {
   "cell_type": "markdown",
   "metadata": {},
   "source": [
    "#### From the KDE plots above, we notice that,\n",
    "\n",
    "1. Most samples appear to have an age in the 50s.\n",
    "2. Most samples have an average glucose level (AVG) a little less than 100, perhaps around 80-90.  The frequency of AVGs drop sharply after this value, though there is a slight spike in frequency for individuals with an average glucose level just over 200.\n",
    "3. Most samples have an average bmi somewhere around 30."
   ]
  },
  {
   "cell_type": "code",
   "execution_count": null,
   "metadata": {},
   "outputs": [],
   "source": [
    "for possible_feature in possible_numerical_features:\n",
    "    sns.regplot(x=possible_feature, y=\"stroke\", data=stroke_data, fit_reg=False, y_jitter=0.1)\n",
    "    plt.title(f\"Individuals who had a stroke based on {possible_feature}\")\n",
    "    \n",
    "    # Find the minimum and maximum values from the current column\n",
    "    # in order to calculate the range\n",
    "    # Divide this range by a small number to set a new step-size for the x-axis\n",
    "    column_max = stroke_data[possible_feature].max()\n",
    "    column_min = stroke_data[possible_feature].min()\n",
    "    column_range = column_max - column_min\n",
    "    \n",
    "    # Divide the column range by 10 for the plot showing avg_glucose_level,\n",
    "    # otherwise the step-size would be too low and the x-axis would be unreadable.\n",
    "    # We still want to divide the range by 5 to find the step-size for the other graphs,\n",
    "    # as more x-ticks help us to more clearly see where the data lies.\n",
    "    if possible_feature == \"avg_glucose_level\":\n",
    "        plt.locator_params(nbins=column_range/10)\n",
    "    else: \n",
    "        plt.locator_params(nbins=column_range/5)\n",
    "    \n",
    "    plt.grid()\n",
    "    plt.show()"
   ]
  },
  {
   "cell_type": "markdown",
   "metadata": {},
   "source": [
    "#### From the regplots above, we notice that indivuals who did not have a stroke could be any age, and have any average glucose level (AVG) or BMI.  However,\n",
    "\n",
    "1. Individuals who did have a stroke were heavily concentrated in the higher age-group.  Very few indivduals under the age of 40 had a stroke, and the \"concentration\" really starts breaking up below age 50.\n",
    "2. Individuals who did have a stroke are heavily concentrated at an AVG of less than about 120, or an AVG of greater than about 180 .  There seems to be a gap where much fewer indivduals with an AVG between these two values had a stroke.\n",
    "3. Individudals who did have a stroke are heavily concentrated between a BMI of about 20 and 40, with a decent but smaller amount of people having BMIs exceeding 40.  Very few individuals with a BMI less than 20 had a stroke."
   ]
  },
  {
   "cell_type": "markdown",
   "metadata": {},
   "source": [
    "##### The strange gap of values for average glucose levels between about 120 and 180 concerns us.  We will breifly take a look at how these graphs would look, had we not dropped any data from the dataset."
   ]
  },
  {
   "cell_type": "code",
   "execution_count": null,
   "metadata": {},
   "outputs": [],
   "source": [
    "# Create dataframe from local csv file\n",
    "original_stroke_data =pd.read_csv('../Data/train_2v.csv')"
   ]
  },
  {
   "cell_type": "code",
   "execution_count": null,
   "metadata": {},
   "outputs": [],
   "source": [
    "# Get shape of dataframe\n",
    "original_stroke_data.shape"
   ]
  },
  {
   "cell_type": "code",
   "execution_count": null,
   "metadata": {},
   "outputs": [],
   "source": [
    "# Check for NaN values\n",
    "original_stroke_data.isna().sum()"
   ]
  },
  {
   "cell_type": "code",
   "execution_count": null,
   "metadata": {},
   "outputs": [],
   "source": [
    "del original_stroke_data[\"id\"]\n",
    "original_stroke_data.head()"
   ]
  },
  {
   "cell_type": "markdown",
   "metadata": {},
   "source": [
    "### Categorical Analysis"
   ]
  },
  {
   "cell_type": "code",
   "execution_count": null,
   "metadata": {
    "scrolled": true
   },
   "outputs": [],
   "source": [
    "# Define a subplot so we can see each plot after data-cleansing compared to the original dataset\n",
    "plt.subplots(figsize=(30,40))\n",
    "\n",
    "# Define an iterator to place each sublplot in the right place\n",
    "i = 1\n",
    "\n",
    "for possible_feature in possible_categorical_features:\n",
    "    \n",
    "    plt.subplot(7,2,i)\n",
    "    sns.countplot(possible_feature, data=stroke_data)\n",
    "    plt.title(\"After data-cleansing\")\n",
    "    \n",
    "    plt.subplot(7,2,i+1)\n",
    "    sns.countplot(possible_feature, data=original_stroke_data)\n",
    "    plt.title(\"Original\")\n",
    "    \n",
    "    # This plot is comprised of 3 rows and two columns.\n",
    "    # When placing each subplot we must specify it's position on the full plot.\n",
    "    # We place each subplot with the syntax (\"row\", \"column\", \"position\").\n",
    "    # The first subplot (position 1) falls in the first column of the first row.\n",
    "    # The next subplot (position 2) falls in the next column of the first row.\n",
    "    # The next subplot (position 3) falls in the first column of the second row.\n",
    "    # This pattern continues.\n",
    "    # We have two columnns,\n",
    "    # so the graph showing the data after data-cleansing will be in the first column (odd-numberd position),\n",
    "    # and the graph showing the data from the original dataset will be in the second column (even-numbered position).\n",
    "    # We then place graphs after data-cleansing with the syntax (2, 3, i),\n",
    "    # and we place graphs showing original data with the syntax (2, 3, i+1).\n",
    "    # We therefore increment our iterator by 2 to preserve its parity.\n",
    "    i += 2"
   ]
  },
  {
   "cell_type": "markdown",
   "metadata": {},
   "source": [
    "##### We can safely assume that dropping NaN data did not have a drastic effect on categorical data."
   ]
  },
  {
   "cell_type": "markdown",
   "metadata": {},
   "source": [
    "### Numerical Analysis"
   ]
  },
  {
   "cell_type": "code",
   "execution_count": null,
   "metadata": {},
   "outputs": [],
   "source": [
    "# Define a subplot so we can see each plot after data-cleansing compared to the original dataset\n",
    "plt.subplots(figsize=(20,25))\n",
    "\n",
    "# Define an iterator to place each sublplot in the right place\n",
    "i = 1\n",
    "\n",
    "for possible_feature in possible_numerical_features:\n",
    "    \n",
    "    plt.subplot(3,2,i)\n",
    "    sns.regplot(x=possible_feature, y=\"stroke\", data=stroke_data, fit_reg=False, y_jitter=0.1)\n",
    "    plt.title(\"After data-cleansing\")\n",
    "    plt.grid()\n",
    "    \n",
    "    plt.subplot(3, 2, i+1)\n",
    "    sns.regplot(x=possible_feature, y=\"stroke\", data=original_stroke_data, fit_reg=False, y_jitter=0.1)\n",
    "    plt.title(\"Original\")\n",
    "    plt.grid()\n",
    "    \n",
    "    # Find the minimum and maximum values from the current column\n",
    "    # in order to calculate the range\n",
    "    # Divide this range by a small number to set a new step-size for the x-axis\n",
    "    column_max = stroke_data[possible_feature].max()\n",
    "    column_min = stroke_data[possible_feature].min()\n",
    "    column_range = column_max - column_min\n",
    "    \n",
    "    # Divide the column range by 10 for the plot showing avg_glucose_level,\n",
    "    # otherwise the step-size would be too low and the x-axis would be unreadable.\n",
    "    # We still want to divide the range by 5 to find the step-size for the other graphs,\n",
    "    # as more x-ticks help us to more clearly see where the data lies.\n",
    "    if possible_feature == \"avg_glucose_level\":\n",
    "        plt.locator_params(nbins=column_range/10)\n",
    "    else: \n",
    "        plt.locator_params(nbins=column_range/5)\n",
    "    \n",
    "#     plt.grid()\n",
    "#     plt.show()\n",
    "    \n",
    "    # This plot is comprised of 3 rows and two columns.\n",
    "    # When placing each subplot we must specify it's position on the full plot.\n",
    "    # We place each subplot with the syntax (\"row\", \"column\", \"position\").\n",
    "    # The first subplot (position 1) falls in the first column of the first row.\n",
    "    # The next subplot (position 2) falls in the next column of the first row.\n",
    "    # The next subplot (position 3) falls in the first column of the second row.\n",
    "    # This pattern continues.\n",
    "    # We have two columnns,\n",
    "    # so the graph showing the data after data-cleansing will be in the first column (odd-numberd position),\n",
    "    # and the graph showing the data from the original dataset will be in the second column (even-numbered position).\n",
    "    # We then place graphs after data-cleansing with the syntax (2, 3, i),\n",
    "    # and we place graphs showing original data with the syntax (2, 3, i+1).\n",
    "    # We therefore increment our iterator by 2 to preserve its parity.\n",
    "    i += 2"
   ]
  },
  {
   "cell_type": "markdown",
   "metadata": {},
   "source": [
    "##### We can safely assume that dropping NaN data did not have a drastic effect on numerical data.  The main thing we were looking for is whether dropping the data caused the strange gap between average glucose levels of 120 and 180.  This gap is also present in the original data."
   ]
  },
  {
   "cell_type": "markdown",
   "metadata": {},
   "source": [
    "### Further data analysis"
   ]
  },
  {
   "cell_type": "code",
   "execution_count": null,
   "metadata": {},
   "outputs": [],
   "source": [
    "for possible_feature in possible_categorical_features:\n",
    "    sns.violinplot(x=possible_feature, y=\"stroke\", data=stroke_data, hue=\"gender\")\n",
    "    plt.show()"
   ]
  },
  {
   "cell_type": "markdown",
   "metadata": {},
   "source": [
    "##### As we are working with highly imbalanced data, violin plots turn out to be pretty useless."
   ]
  },
  {
   "cell_type": "markdown",
   "metadata": {},
   "source": [
    "## 3. Model Building"
   ]
  },
  {
   "cell_type": "code",
   "execution_count": null,
   "metadata": {},
   "outputs": [],
   "source": [
    "# Transform data to binary encoded data\n",
    "stroke_data_binary_encoded = pd.get_dummies(stroke_data, columns=[\"gender\", \"ever_married\", \"work_type\", \"Residence_type\", \"smoking_status\"])\n",
    "stroke_data_binary_encoded.head()"
   ]
  },
  {
   "cell_type": "code",
   "execution_count": null,
   "metadata": {},
   "outputs": [],
   "source": [
    "# Create our features and label\n",
    "X = stroke_data_binary_encoded.drop([\"stroke\"], axis=1)\n",
    "y = stroke_data_binary_encoded[\"stroke\"].values.reshape(-1,1)"
   ]
  },
  {
   "cell_type": "code",
   "execution_count": null,
   "metadata": {},
   "outputs": [],
   "source": [
    "from sklearn.model_selection import train_test_split\n",
    "\n",
    "# Split the data into training and testing sets\n",
    "X_train, X_test, y_train, y_test = train_test_split(X, y, test_size = 0.2, random_state=42)"
   ]
  },
  {
   "cell_type": "code",
   "execution_count": null,
   "metadata": {},
   "outputs": [],
   "source": [
    "from sklearn.preprocessing import StandardScaler\n",
    "\n",
    "# Create scale for features and label\n",
    "X_scaler = StandardScaler().fit(X_train)\n",
    "y_scaler = StandardScaler().fit(y_train)\n",
    "\n",
    "# Scale features and labels\n",
    "X_train_scaled = X_scaler.transform(X_train)\n",
    "X_test_scaled = X_scaler.transform(X_test)\n",
    "y_train_scaled = y_scaler.transform(y_train)\n",
    "y_test_scaled = y_scaler.transform(y_test)"
   ]
  }
 ],
 "metadata": {
  "kernelspec": {
   "display_name": "Python 3",
   "language": "python",
   "name": "python3"
  },
  "language_info": {
   "codemirror_mode": {
    "name": "ipython",
    "version": 3
   },
   "file_extension": ".py",
   "mimetype": "text/x-python",
   "name": "python",
   "nbconvert_exporter": "python",
   "pygments_lexer": "ipython3",
   "version": "3.6.5"
  }
 },
 "nbformat": 4,
 "nbformat_minor": 2
}
