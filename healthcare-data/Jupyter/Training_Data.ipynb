{
 "cells": [
  {
   "cell_type": "code",
   "execution_count": 1,
   "metadata": {},
   "outputs": [],
   "source": [
    "%matplotlib inline\n",
    "\n",
    "import pandas as pd\n",
    "import numpy as np\n",
    "import matplotlib.pyplot as plt\n",
    "import seaborn as sns"
   ]
  },
  {
   "cell_type": "code",
   "execution_count": 2,
   "metadata": {},
   "outputs": [],
   "source": [
    "# import warnings\n",
    "# warnings.filterwarnings(\"ignore\")"
   ]
  },
  {
   "cell_type": "code",
   "execution_count": 3,
   "metadata": {},
   "outputs": [],
   "source": [
    "# Create dataframe from local csv file\n",
    "stroke_data_original =pd.read_csv('../Data/train_2v.csv')"
   ]
  },
  {
   "cell_type": "markdown",
   "metadata": {},
   "source": [
    "# We will start by preview our data and determing what kind of problem we have. "
   ]
  },
  {
   "cell_type": "code",
   "execution_count": 4,
   "metadata": {
    "scrolled": true
   },
   "outputs": [
    {
     "data": {
      "text/html": [
       "<div>\n",
       "<style scoped>\n",
       "    .dataframe tbody tr th:only-of-type {\n",
       "        vertical-align: middle;\n",
       "    }\n",
       "\n",
       "    .dataframe tbody tr th {\n",
       "        vertical-align: top;\n",
       "    }\n",
       "\n",
       "    .dataframe thead th {\n",
       "        text-align: right;\n",
       "    }\n",
       "</style>\n",
       "<table border=\"1\" class=\"dataframe\">\n",
       "  <thead>\n",
       "    <tr style=\"text-align: right;\">\n",
       "      <th></th>\n",
       "      <th>id</th>\n",
       "      <th>gender</th>\n",
       "      <th>age</th>\n",
       "      <th>hypertension</th>\n",
       "      <th>heart_disease</th>\n",
       "      <th>ever_married</th>\n",
       "      <th>work_type</th>\n",
       "      <th>Residence_type</th>\n",
       "      <th>avg_glucose_level</th>\n",
       "      <th>bmi</th>\n",
       "      <th>smoking_status</th>\n",
       "      <th>stroke</th>\n",
       "    </tr>\n",
       "  </thead>\n",
       "  <tbody>\n",
       "    <tr>\n",
       "      <th>0</th>\n",
       "      <td></td>\n",
       "      <td>Male</td>\n",
       "      <td>3.0</td>\n",
       "      <td>0</td>\n",
       "      <td>0</td>\n",
       "      <td>No</td>\n",
       "      <td>children</td>\n",
       "      <td>Rural</td>\n",
       "      <td>95.12</td>\n",
       "      <td>18.0</td>\n",
       "      <td>NaN</td>\n",
       "      <td>0</td>\n",
       "    </tr>\n",
       "    <tr>\n",
       "      <th>1</th>\n",
       "      <td>30468</td>\n",
       "      <td>Male</td>\n",
       "      <td>58.0</td>\n",
       "      <td>1</td>\n",
       "      <td>0</td>\n",
       "      <td>Yes</td>\n",
       "      <td>Private</td>\n",
       "      <td>Urban</td>\n",
       "      <td>87.96</td>\n",
       "      <td>39.2</td>\n",
       "      <td>never smoked</td>\n",
       "      <td>0</td>\n",
       "    </tr>\n",
       "    <tr>\n",
       "      <th>2</th>\n",
       "      <td>16523</td>\n",
       "      <td>Female</td>\n",
       "      <td>8.0</td>\n",
       "      <td>0</td>\n",
       "      <td>0</td>\n",
       "      <td>No</td>\n",
       "      <td>Private</td>\n",
       "      <td>Urban</td>\n",
       "      <td>110.89</td>\n",
       "      <td>17.6</td>\n",
       "      <td>NaN</td>\n",
       "      <td>0</td>\n",
       "    </tr>\n",
       "    <tr>\n",
       "      <th>3</th>\n",
       "      <td>56543</td>\n",
       "      <td>Female</td>\n",
       "      <td>70.0</td>\n",
       "      <td>0</td>\n",
       "      <td>0</td>\n",
       "      <td>Yes</td>\n",
       "      <td>Private</td>\n",
       "      <td>Rural</td>\n",
       "      <td>69.04</td>\n",
       "      <td>35.9</td>\n",
       "      <td>formerly smoked</td>\n",
       "      <td>0</td>\n",
       "    </tr>\n",
       "    <tr>\n",
       "      <th>4</th>\n",
       "      <td>46136</td>\n",
       "      <td>Male</td>\n",
       "      <td>14.0</td>\n",
       "      <td>0</td>\n",
       "      <td>0</td>\n",
       "      <td>No</td>\n",
       "      <td>Never_worked</td>\n",
       "      <td>Rural</td>\n",
       "      <td>161.28</td>\n",
       "      <td>19.1</td>\n",
       "      <td>NaN</td>\n",
       "      <td>0</td>\n",
       "    </tr>\n",
       "  </tbody>\n",
       "</table>\n",
       "</div>"
      ],
      "text/plain": [
       "      id  gender   age  hypertension  heart_disease ever_married  \\\n",
       "0           Male   3.0             0              0           No   \n",
       "1  30468    Male  58.0             1              0          Yes   \n",
       "2  16523  Female   8.0             0              0           No   \n",
       "3  56543  Female  70.0             0              0          Yes   \n",
       "4  46136    Male  14.0             0              0           No   \n",
       "\n",
       "      work_type Residence_type  avg_glucose_level   bmi   smoking_status  \\\n",
       "0      children          Rural              95.12  18.0              NaN   \n",
       "1       Private          Urban              87.96  39.2     never smoked   \n",
       "2       Private          Urban             110.89  17.6              NaN   \n",
       "3       Private          Rural              69.04  35.9  formerly smoked   \n",
       "4  Never_worked          Rural             161.28  19.1              NaN   \n",
       "\n",
       "   stroke  \n",
       "0       0  \n",
       "1       0  \n",
       "2       0  \n",
       "3       0  \n",
       "4       0  "
      ]
     },
     "execution_count": 4,
     "metadata": {},
     "output_type": "execute_result"
    }
   ],
   "source": [
    "# Preview dataframe\n",
    "stroke_data_original.head()"
   ]
  },
  {
   "cell_type": "code",
   "execution_count": 5,
   "metadata": {},
   "outputs": [
    {
     "data": {
      "text/plain": [
       "(43400, 12)"
      ]
     },
     "execution_count": 5,
     "metadata": {},
     "output_type": "execute_result"
    }
   ],
   "source": [
    "# Get shape of dataframe\n",
    "stroke_data_original.shape"
   ]
  },
  {
   "cell_type": "code",
   "execution_count": 6,
   "metadata": {},
   "outputs": [
    {
     "data": {
      "text/plain": [
       "783"
      ]
     },
     "execution_count": 6,
     "metadata": {},
     "output_type": "execute_result"
    }
   ],
   "source": [
    "# Get the number of indiviudals who had a stroke.\n",
    "number_of_people_who_had_a_stroke = len(stroke_data_original[stroke_data_original[\"stroke\"] == 1])\n",
    "number_of_people_who_had_a_stroke"
   ]
  },
  {
   "cell_type": "code",
   "execution_count": 7,
   "metadata": {},
   "outputs": [
    {
     "data": {
      "text/plain": [
       "1.804147465437788"
      ]
     },
     "execution_count": 7,
     "metadata": {},
     "output_type": "execute_result"
    }
   ],
   "source": [
    "# Get the percentage of people who had a stroke\n",
    "percentage_of_people_who_had_a_stroke = (number_of_people_who_had_a_stroke / len(stroke_data_original) ) * 100\n",
    "percentage_of_people_who_had_a_stroke"
   ]
  },
  {
   "cell_type": "markdown",
   "metadata": {},
   "source": [
    " # After previewing our data, we see that we have a classification problem.  We will determine what the most appropriate features are, and use these to predict whether an individual will have a stroke.\n",
    " \n",
    " # We also notice that only about 1.8% of the individuals in our dataset had a stroke.  We will have to find a way to deal with imbalanced data."
   ]
  },
  {
   "cell_type": "markdown",
   "metadata": {},
   "source": [
    "# 1. Prework / Data Cleansing"
   ]
  },
  {
   "cell_type": "code",
   "execution_count": 8,
   "metadata": {},
   "outputs": [
    {
     "data": {
      "text/html": [
       "<div>\n",
       "<style scoped>\n",
       "    .dataframe tbody tr th:only-of-type {\n",
       "        vertical-align: middle;\n",
       "    }\n",
       "\n",
       "    .dataframe tbody tr th {\n",
       "        vertical-align: top;\n",
       "    }\n",
       "\n",
       "    .dataframe thead th {\n",
       "        text-align: right;\n",
       "    }\n",
       "</style>\n",
       "<table border=\"1\" class=\"dataframe\">\n",
       "  <thead>\n",
       "    <tr style=\"text-align: right;\">\n",
       "      <th></th>\n",
       "      <th>gender</th>\n",
       "      <th>age</th>\n",
       "      <th>hypertension</th>\n",
       "      <th>heart_disease</th>\n",
       "      <th>ever_married</th>\n",
       "      <th>work_type</th>\n",
       "      <th>Residence_type</th>\n",
       "      <th>avg_glucose_level</th>\n",
       "      <th>bmi</th>\n",
       "      <th>smoking_status</th>\n",
       "      <th>stroke</th>\n",
       "    </tr>\n",
       "  </thead>\n",
       "  <tbody>\n",
       "    <tr>\n",
       "      <th>0</th>\n",
       "      <td>Male</td>\n",
       "      <td>3.0</td>\n",
       "      <td>0</td>\n",
       "      <td>0</td>\n",
       "      <td>No</td>\n",
       "      <td>children</td>\n",
       "      <td>Rural</td>\n",
       "      <td>95.12</td>\n",
       "      <td>18.0</td>\n",
       "      <td>NaN</td>\n",
       "      <td>0</td>\n",
       "    </tr>\n",
       "    <tr>\n",
       "      <th>1</th>\n",
       "      <td>Male</td>\n",
       "      <td>58.0</td>\n",
       "      <td>1</td>\n",
       "      <td>0</td>\n",
       "      <td>Yes</td>\n",
       "      <td>Private</td>\n",
       "      <td>Urban</td>\n",
       "      <td>87.96</td>\n",
       "      <td>39.2</td>\n",
       "      <td>never smoked</td>\n",
       "      <td>0</td>\n",
       "    </tr>\n",
       "    <tr>\n",
       "      <th>2</th>\n",
       "      <td>Female</td>\n",
       "      <td>8.0</td>\n",
       "      <td>0</td>\n",
       "      <td>0</td>\n",
       "      <td>No</td>\n",
       "      <td>Private</td>\n",
       "      <td>Urban</td>\n",
       "      <td>110.89</td>\n",
       "      <td>17.6</td>\n",
       "      <td>NaN</td>\n",
       "      <td>0</td>\n",
       "    </tr>\n",
       "    <tr>\n",
       "      <th>3</th>\n",
       "      <td>Female</td>\n",
       "      <td>70.0</td>\n",
       "      <td>0</td>\n",
       "      <td>0</td>\n",
       "      <td>Yes</td>\n",
       "      <td>Private</td>\n",
       "      <td>Rural</td>\n",
       "      <td>69.04</td>\n",
       "      <td>35.9</td>\n",
       "      <td>formerly smoked</td>\n",
       "      <td>0</td>\n",
       "    </tr>\n",
       "    <tr>\n",
       "      <th>4</th>\n",
       "      <td>Male</td>\n",
       "      <td>14.0</td>\n",
       "      <td>0</td>\n",
       "      <td>0</td>\n",
       "      <td>No</td>\n",
       "      <td>Never_worked</td>\n",
       "      <td>Rural</td>\n",
       "      <td>161.28</td>\n",
       "      <td>19.1</td>\n",
       "      <td>NaN</td>\n",
       "      <td>0</td>\n",
       "    </tr>\n",
       "  </tbody>\n",
       "</table>\n",
       "</div>"
      ],
      "text/plain": [
       "   gender   age  hypertension  heart_disease ever_married     work_type  \\\n",
       "0    Male   3.0             0              0           No      children   \n",
       "1    Male  58.0             1              0          Yes       Private   \n",
       "2  Female   8.0             0              0           No       Private   \n",
       "3  Female  70.0             0              0          Yes       Private   \n",
       "4    Male  14.0             0              0           No  Never_worked   \n",
       "\n",
       "  Residence_type  avg_glucose_level   bmi   smoking_status  stroke  \n",
       "0          Rural              95.12  18.0              NaN       0  \n",
       "1          Urban              87.96  39.2     never smoked       0  \n",
       "2          Urban             110.89  17.6              NaN       0  \n",
       "3          Rural              69.04  35.9  formerly smoked       0  \n",
       "4          Rural             161.28  19.1              NaN       0  "
      ]
     },
     "execution_count": 8,
     "metadata": {},
     "output_type": "execute_result"
    }
   ],
   "source": [
    "# We do not want to work with unique identifiers.\n",
    "# We will therefore drop the id column.\n",
    "\n",
    "stroke_data_clean = stroke_data_original.drop([\"id\"], axis=1)\n",
    "stroke_data_clean.head()"
   ]
  },
  {
   "cell_type": "code",
   "execution_count": 9,
   "metadata": {
    "scrolled": true
   },
   "outputs": [
    {
     "data": {
      "text/plain": [
       "gender                   0\n",
       "age                      0\n",
       "hypertension             0\n",
       "heart_disease            0\n",
       "ever_married             0\n",
       "work_type                0\n",
       "Residence_type           0\n",
       "avg_glucose_level        0\n",
       "bmi                   1462\n",
       "smoking_status       13292\n",
       "stroke                   0\n",
       "dtype: int64"
      ]
     },
     "execution_count": 9,
     "metadata": {},
     "output_type": "execute_result"
    }
   ],
   "source": [
    "# Check for NaN values\n",
    "stroke_data_clean.isna().sum()"
   ]
  },
  {
   "cell_type": "code",
   "execution_count": 10,
   "metadata": {},
   "outputs": [
    {
     "data": {
      "text/plain": [
       "3"
      ]
     },
     "execution_count": 10,
     "metadata": {},
     "output_type": "execute_result"
    }
   ],
   "source": [
    "# Get number of unique values in smoking_status column\n",
    "stroke_data_clean[\"smoking_status\"].nunique()"
   ]
  },
  {
   "cell_type": "code",
   "execution_count": 11,
   "metadata": {},
   "outputs": [
    {
     "data": {
      "text/plain": [
       "array([nan, 'never smoked', 'formerly smoked', 'smokes'], dtype=object)"
      ]
     },
     "execution_count": 11,
     "metadata": {},
     "output_type": "execute_result"
    }
   ],
   "source": [
    "# Get unique values of smoking_status column\n",
    "stroke_data_clean[\"smoking_status\"].unique()"
   ]
  },
  {
   "cell_type": "code",
   "execution_count": 12,
   "metadata": {},
   "outputs": [
    {
     "data": {
      "text/plain": [
       "555"
      ]
     },
     "execution_count": 12,
     "metadata": {},
     "output_type": "execute_result"
    }
   ],
   "source": [
    "# Get number of unique values in bmi column\n",
    "stroke_data_clean[\"bmi\"].nunique()"
   ]
  },
  {
   "cell_type": "markdown",
   "metadata": {},
   "source": [
    "### We are working with NaN data.  We have a few options for what to do."
   ]
  },
  {
   "cell_type": "markdown",
   "metadata": {},
   "source": [
    "### Concerning the bmi values, we could:\n",
    "\n",
    "1. Fill NaN values with the mean bmi value\n",
    "1. Fill NaN values with the median bmi value\n",
    "1. Fill NaN values with the mode bmi value"
   ]
  },
  {
   "cell_type": "code",
   "execution_count": 13,
   "metadata": {},
   "outputs": [
    {
     "name": "stdout",
     "output_type": "stream",
     "text": [
      "Mean: 28.605038390004545\n",
      "Median: 27.7\n",
      "Mode: 27.7\n"
     ]
    }
   ],
   "source": [
    "print(f\"Mean: {stroke_data_clean['bmi'].mean()}\")\n",
    "print(f\"Median: {stroke_data_clean['bmi'].median()}\")\n",
    "print(f\"Mode: {stroke_data_clean.mode()['bmi'][0]}\")"
   ]
  },
  {
   "cell_type": "code",
   "execution_count": 14,
   "metadata": {},
   "outputs": [],
   "source": [
    "# The median bmi values is equal to the mode bmi value\n",
    "# Fill NaN values in the \"bmi\" column with the median bmi\n",
    "stroke_data_clean[\"bmi\"].fillna(stroke_data_clean[\"bmi\"].median(), inplace=True)"
   ]
  },
  {
   "cell_type": "code",
   "execution_count": 15,
   "metadata": {},
   "outputs": [
    {
     "data": {
      "text/plain": [
       "gender                   0\n",
       "age                      0\n",
       "hypertension             0\n",
       "heart_disease            0\n",
       "ever_married             0\n",
       "work_type                0\n",
       "Residence_type           0\n",
       "avg_glucose_level        0\n",
       "bmi                      0\n",
       "smoking_status       13292\n",
       "stroke                   0\n",
       "dtype: int64"
      ]
     },
     "execution_count": 15,
     "metadata": {},
     "output_type": "execute_result"
    }
   ],
   "source": [
    "# Confirm no NaN values in the \"bmi\" column\n",
    "stroke_data_clean.isna().sum()"
   ]
  },
  {
   "cell_type": "markdown",
   "metadata": {},
   "source": [
    "### Concerning the smoking_status values, we could:\n",
    "\n",
    "1. Assume these individuals were ashamed they smoke, and skipped this question.  We would therefore fill these values with \"smokes\"\n",
    "2. Assume these individuals have never smoked and didn't think the question was important, and skipped it.  We would therefore fill these values with \"never_smoked.\""
   ]
  },
  {
   "cell_type": "code",
   "execution_count": 16,
   "metadata": {},
   "outputs": [],
   "source": [
    "# Define two new dataframes based on the cleaned_stroke_data dataframe\n",
    "stroke_data_clean_assume_smokes = stroke_data_clean_assume_never_smoked = stroke_data_clean\n",
    "\n",
    "# Fill NaN values in the \"smoking_status\" column with either \"smoked\" or \"never_smoked,\"\n",
    "# based on our aforementioned assumptions.\n",
    "# stroke_data_clean_assume_smokes.fillna(\"smokes\", inplace=True)\n",
    "# stroke_data_clean_assume_never_smoked.fillna(\"never smoked\", inplace=True)\n",
    "stroke_data_clean_assume_smokes = stroke_data_clean_assume_smokes.fillna(\"smokes\")\n",
    "stroke_data_clean_assume_never_smoked = stroke_data_clean_assume_never_smoked.fillna(\"never smoked\")\n",
    "\n",
    "# cleaned_stroke_data_assume_smokes = cleaned_stroke_data[\"smoking_status\"].fillna(value=\"smokes\", inplace=True)\n",
    "# cleaned_stroke_data_assume_never_smoked = cleaned_stroke_data[\"smoking_status\"].fillna(value=\"never_smoked\", inplace=True)"
   ]
  },
  {
   "cell_type": "code",
   "execution_count": 17,
   "metadata": {},
   "outputs": [
    {
     "name": "stdout",
     "output_type": "stream",
     "text": [
      "Original:\n",
      "smoking_status\n",
      "formerly smoked     7493\n",
      "never smoked       16053\n",
      "smokes              6562\n",
      "Name: smoking_status, dtype: int64\n",
      "\n",
      "Assume NaN corresponds to \"smokes\": \n",
      "smoking_status\n",
      "formerly smoked     7493\n",
      "never smoked       16053\n",
      "smokes             19854\n",
      "Name: smoking_status, dtype: int64\n",
      "\n",
      "Assume NaN correspondsto \"never smoked\": \n",
      "smoking_status\n",
      "formerly smoked     7493\n",
      "never smoked       29345\n",
      "smokes              6562\n",
      "Name: smoking_status, dtype: int64\n"
     ]
    }
   ],
   "source": [
    "# Confirm NaN values properly filled\n",
    "print(\"Original:\")\n",
    "print(stroke_data_clean.groupby(\"smoking_status\")[\"smoking_status\"].count())\n",
    "print(\"\\nAssume NaN corresponds to \\\"smokes\\\": \")\n",
    "print(stroke_data_clean_assume_smokes.groupby(\"smoking_status\")[\"smoking_status\"].count())\n",
    "print(\"\\nAssume NaN correspondsto \\\"never smoked\\\": \")\n",
    "print(stroke_data_clean_assume_never_smoked.groupby(\"smoking_status\")[\"smoking_status\"].count())"
   ]
  },
  {
   "cell_type": "code",
   "execution_count": 18,
   "metadata": {},
   "outputs": [
    {
     "name": "stdout",
     "output_type": "stream",
     "text": [
      "NaN counts for dataset assuming \"smokes\": \n",
      "gender               0\n",
      "age                  0\n",
      "hypertension         0\n",
      "heart_disease        0\n",
      "ever_married         0\n",
      "work_type            0\n",
      "Residence_type       0\n",
      "avg_glucose_level    0\n",
      "bmi                  0\n",
      "smoking_status       0\n",
      "stroke               0\n",
      "dtype: int64\n",
      "\n",
      "NaN counts for dataset assuming \"never smoked\": \n",
      "gender               0\n",
      "age                  0\n",
      "hypertension         0\n",
      "heart_disease        0\n",
      "ever_married         0\n",
      "work_type            0\n",
      "Residence_type       0\n",
      "avg_glucose_level    0\n",
      "bmi                  0\n",
      "smoking_status       0\n",
      "stroke               0\n",
      "dtype: int64\n"
     ]
    }
   ],
   "source": [
    "# Confirm no NaN values after filling in NaN data.\n",
    "print(\"NaN counts for dataset assuming \\\"smokes\\\": \")\n",
    "print(stroke_data_clean_assume_smokes.isna().sum())\n",
    "print(\"\\nNaN counts for dataset assuming \\\"never smoked\\\": \")\n",
    "print(stroke_data_clean_assume_never_smoked.isna().sum())"
   ]
  },
  {
   "cell_type": "markdown",
   "metadata": {},
   "source": [
    "## 2. Data Exploration"
   ]
  },
  {
   "cell_type": "code",
   "execution_count": 19,
   "metadata": {},
   "outputs": [
    {
     "name": "stdout",
     "output_type": "stream",
     "text": [
      "Assume smokes\n",
      "gender                object\n",
      "age                  float64\n",
      "hypertension           int64\n",
      "heart_disease          int64\n",
      "ever_married          object\n",
      "work_type             object\n",
      "Residence_type        object\n",
      "avg_glucose_level    float64\n",
      "bmi                  float64\n",
      "smoking_status        object\n",
      "stroke                 int64\n",
      "dtype: object\n"
     ]
    }
   ],
   "source": [
    "# Get the data type for each column\n",
    "print(\"Assume smokes\")\n",
    "print(stroke_data_clean.dtypes)"
   ]
  },
  {
   "cell_type": "code",
   "execution_count": 20,
   "metadata": {},
   "outputs": [],
   "source": [
    "# Create list of possible categorical features\n",
    "possible_categorical_features = [\"gender\",\n",
    "                                 \"hypertension\",\n",
    "                                 \"heart_disease\",\n",
    "                                 \"ever_married\",\n",
    "                                 \"work_type\",\n",
    "                                 \"Residence_type\",\n",
    "                                 \"smoking_status\"]\n",
    "\n",
    "# Create list of possible numerical features\n",
    "possible_numerical_features = [\"age\",\n",
    "                               \"avg_glucose_level\",\n",
    "                               \"bmi\"]"
   ]
  },
  {
   "cell_type": "code",
   "execution_count": 21,
   "metadata": {},
   "outputs": [
    {
     "data": {
      "text/plain": [
       "Text(0.5,1.05,'Count of indiviudals who had a stroke\\n1 corresponds to \"had a stroke\"')"
      ]
     },
     "execution_count": 21,
     "metadata": {},
     "output_type": "execute_result"
    },
    {
     "data": {
      "image/png": "[encoded data removed]",
      "text/plain": [
       "<Figure size 1440x360 with 2 Axes>"
      ]
     },
     "metadata": {},
     "output_type": "display_data"
    }
   ],
   "source": [
    "# Make a bar plot to see count of how many people did and did not have a stroke\n",
    "# We have two datasets- one where we filled NaN values with \"smokes,\"\n",
    "# and one where we filled NaN values with \"never smoked\"\n",
    "# We will make subplots so we can compare both datasets.\n",
    "\n",
    "plt.subplots(figsize=(20,5))\n",
    "\n",
    "plt.subplot(1,2,1)\n",
    "stroke_data_clean_assume_smokes.stroke.value_counts().plot(kind=\"bar\")\n",
    "plt.title(\"NaN filled with smoked\")\n",
    "\n",
    "plt.subplot(1,2,2)\n",
    "stroke_data_clean_assume_never_smoked.stroke.value_counts().plot(kind=\"bar\")\n",
    "plt.title(\"NaN filled with never_smoked\")\n",
    "\n",
    "# Define an overall title for the entire graph and position it.\n",
    "plt.suptitle(\"Count of indiviudals who had a stroke\\n1 corresponds to \\\"had a stroke\\\"\", x=0.5, y=1.05)"
   ]
  },
  {
   "cell_type": "markdown",
   "metadata": {},
   "source": [
    "### Categorical Analysis"
   ]
  },
  {
   "cell_type": "code",
   "execution_count": 22,
   "metadata": {},
   "outputs": [
    {
     "data": {
      "image/png": "[encoded data removed]",
      "text/plain": [
       "<Figure size 1800x3600 with 2 Axes>"
      ]
     },
     "metadata": {},
     "output_type": "display_data"
    },
    {
     "data": {
      "image/png": "[encoded data removed]",
      "text/plain": [
       "<Figure size 1800x3600 with 2 Axes>"
      ]
     },
     "metadata": {},
     "output_type": "display_data"
    },
    {
     "data": {
      "image/png": "[encoded data removed]",
      "text/plain": [
       "<Figure size 1800x3600 with 2 Axes>"
      ]
     },
     "metadata": {},
     "output_type": "display_data"
    },
    {
     "data": {
      "image/png": "[encoded data removed]",
      "text/plain": [
       "<Figure size 1800x3600 with 2 Axes>"
      ]
     },
     "metadata": {},
     "output_type": "display_data"
    },
    {
     "data": {
      "image/png": "[encoded data removed]",
      "text/plain": [
       "<Figure size 1800x3600 with 2 Axes>"
      ]
     },
     "metadata": {},
     "output_type": "display_data"
    },
    {
     "data": {
      "image/png": "[encoded data removed]",
      "text/plain": [
       "<Figure size 1800x3600 with 2 Axes>"
      ]
     },
     "metadata": {},
     "output_type": "display_data"
    },
    {
     "data": {
      "image/png": "[encoded data removed]",
      "text/plain": [
       "<Figure size 1800x3600 with 4 Axes>"
      ]
     },
     "metadata": {},
     "output_type": "display_data"
    }
   ],
   "source": [
    "# Define dataframes of filtered data\n",
    "# We are filtering to include only individuals who had a stroke\n",
    "stroke_data_clean_stroke_true = stroke_data_clean[stroke_data_clean[\"stroke\"] == 1]\n",
    "stroke_data_clean_assume_smokes_stroke_true = stroke_data_clean_assume_smokes[stroke_data_clean_assume_smokes[\"stroke\"] == 1]\n",
    "stroke_data_clean_assume_never_smoked_stroke_true = stroke_data_clean_assume_never_smoked[stroke_data_clean_assume_never_smoked[\"stroke\"] == 1]\n",
    "\n",
    "# Define an iterator to place each sublplot in the right place\n",
    "i = 1\n",
    "\n",
    "# For every possivle feature in our list of categorical features\n",
    "# make a bar showing how many individuals are in each group of the category\n",
    "# make one bar plot showing the full dataset,\n",
    "# and one more showing only the filtered dataset\n",
    "for possible_feature in possible_categorical_features:\n",
    "    \n",
    "    # Define a subplot so we can see each plot after data-cleansing compared to the original dataset\n",
    "    plt.figure(figsize=(25,50))\n",
    "    \n",
    "    # We will have a grid of 8 rows and two columns\n",
    "    # The graph showing the original data will show on the left side (thus taking an odd-numbered position: i),\n",
    "    # and the graph showing the filtered data will show on the right side (thus taking an even-numbered position: i+1)\n",
    "    # This is the technique for plotting each possible feature other than \"smoking_status\"\n",
    "    # When we reach \"smoking_status\", we will have four graphs\n",
    "    # Again, we will have one graph for the original data and one for the filtered,\n",
    "    # we will do this technique once for the dataset where NaN was filled with \"smokes\",\n",
    "    # and once more for the dataset where NaN was filled with \"never smoked\"\n",
    "    if possible_feature != \"smoking_status\":\n",
    "        plt.subplot(8,2,i)\n",
    "        sns.countplot(possible_feature, data=stroke_data_clean)\n",
    "        plt.title(\"Complete Data\")\n",
    "        \n",
    "        plt.subplot(8,2,i+1)\n",
    "        sns.countplot(possible_feature, data=stroke_data_clean_stroke_true)\n",
    "        plt.title(\"Only those who had stroke\")\n",
    "    \n",
    "    else:\n",
    "        plt.subplot(8,2,13)\n",
    "        sns.countplot(possible_feature, data=stroke_data_clean_assume_smokes)\n",
    "        plt.title(\"Complete Data (Assume NaN -> smokes)\")\n",
    "        \n",
    "        plt.subplot(8,2,14)\n",
    "        sns.countplot(possible_feature, data=stroke_data_clean_assume_smokes_stroke_true)\n",
    "        plt.title(\"Only those who had a stroke (Assume NaN -> smokes)\")\n",
    "        \n",
    "        plt.subplot(8,2,15)\n",
    "        sns.countplot(possible_feature, data=stroke_data_clean_assume_never_smoked)\n",
    "        plt.title(\"Complete Data (Assume NaN -> never smoked)\")\n",
    "        \n",
    "        plt.subplot(8,2,16)\n",
    "        sns.countplot(possible_feature, data=stroke_data_clean_assume_never_smoked_stroke_true)\n",
    "        plt.title(\"Only those who had a stroke (Assume NaN -> never smoked)\")\n",
    "        \n",
    "        plt.show()"
   ]
  },
  {
   "cell_type": "code",
   "execution_count": 23,
   "metadata": {},
   "outputs": [
    {
     "name": "stdout",
     "output_type": "stream",
     "text": [
      "Female    25665\n",
      "Male      17724\n",
      "Other        11\n",
      "Name: gender, dtype: int64\n",
      "Female    431\n",
      "Male      352\n",
      "Name: gender, dtype: int64\n"
     ]
    }
   ],
   "source": [
    "print(stroke_data_clean[\"gender\"].value_counts())\n",
    "print(stroke_data_clean[stroke_data_clean[\"stroke\"] == 1][\"gender\"].value_counts())"
   ]
  },
  {
   "cell_type": "code",
   "execution_count": 24,
   "metadata": {},
   "outputs": [
    {
     "name": "stdout",
     "output_type": "stream",
     "text": [
      "Percent of people male (full dataset): 40.84\n",
      "Percent of people male (only those with stroke): 44.96\n"
     ]
    }
   ],
   "source": [
    "full_dataset_gender_percent_male = round((17724 / (25665+17724+11)) * 100, 2)\n",
    "stroke_true_gender_percent_male = round((352 / (431+352)) * 100, 2)\n",
    "\n",
    "print(f\"Percent of people male (full dataset): {full_dataset_gender_percent_male}\")\n",
    "print(f\"Percent of people male (only those with stroke): {stroke_true_gender_percent_male}\")"
   ]
  },
  {
   "cell_type": "code",
   "execution_count": 25,
   "metadata": {},
   "outputs": [
    {
     "name": "stdout",
     "output_type": "stream",
     "text": [
      "0    39339\n",
      "1     4061\n",
      "Name: hypertension, dtype: int64\n",
      "0    583\n",
      "1    200\n",
      "Name: hypertension, dtype: int64\n"
     ]
    }
   ],
   "source": [
    "print(stroke_data_clean[\"hypertension\"].value_counts())\n",
    "print(stroke_data_clean[stroke_data_clean[\"stroke\"] == 1][\"hypertension\"].value_counts())"
   ]
  },
  {
   "cell_type": "code",
   "execution_count": 26,
   "metadata": {},
   "outputs": [
    {
     "name": "stdout",
     "output_type": "stream",
     "text": [
      "Percent of people with hypertension (full dataset): 9.36\n",
      "Percent of people with hypertension (only those with stroke): 25.54\n"
     ]
    }
   ],
   "source": [
    "full_dataset_hypertension_percent_yes = round((4061 / (39339+4061)) * 100, 2)\n",
    "stroke_true_hypertension_percent_yes = round((200 / (200+583)) * 100, 2)\n",
    "\n",
    "print(f\"Percent of people with hypertension (full dataset): {full_dataset_hypertension_percent_yes}\")\n",
    "print(f\"Percent of people with hypertension (only those with stroke): {stroke_true_hypertension_percent_yes}\")"
   ]
  },
  {
   "cell_type": "code",
   "execution_count": 27,
   "metadata": {},
   "outputs": [
    {
     "name": "stdout",
     "output_type": "stream",
     "text": [
      "0    41338\n",
      "1     2062\n",
      "Name: heart_disease, dtype: int64\n",
      "0    606\n",
      "1    177\n",
      "Name: heart_disease, dtype: int64\n"
     ]
    }
   ],
   "source": [
    "print(stroke_data_clean[\"heart_disease\"].value_counts())\n",
    "print(stroke_data_clean[stroke_data_clean[\"stroke\"] == 1][\"heart_disease\"].value_counts())"
   ]
  },
  {
   "cell_type": "code",
   "execution_count": 28,
   "metadata": {},
   "outputs": [
    {
     "name": "stdout",
     "output_type": "stream",
     "text": [
      "Percent of people with heart disease (full dataset): 4.75\n",
      "Percent of people with heart disease (only those with stroke): 22.61\n"
     ]
    }
   ],
   "source": [
    "full_dataset_heart_disease_percent_yes = round((2062 / (41338+2062)) * 100, 2)\n",
    "stroke_true_heart_disease_percent_yes = round((177 / (606+177)) * 100, 2)\n",
    "\n",
    "print(f\"Percent of people with heart disease (full dataset): {full_dataset_heart_disease_percent_yes}\")\n",
    "print(f\"Percent of people with heart disease (only those with stroke): {stroke_true_heart_disease_percent_yes}\")"
   ]
  },
  {
   "cell_type": "code",
   "execution_count": 29,
   "metadata": {},
   "outputs": [
    {
     "name": "stdout",
     "output_type": "stream",
     "text": [
      "Yes    27938\n",
      "No     15462\n",
      "Name: ever_married, dtype: int64 \n",
      "\n",
      "Yes    703\n",
      "No      80\n",
      "Name: ever_married, dtype: int64\n"
     ]
    }
   ],
   "source": [
    "print(stroke_data_clean[\"ever_married\"].value_counts(), \"\\n\")\n",
    "print(stroke_data_clean[stroke_data_clean[\"stroke\"] ==1][\"ever_married\"].value_counts())"
   ]
  },
  {
   "cell_type": "code",
   "execution_count": 30,
   "metadata": {},
   "outputs": [
    {
     "name": "stdout",
     "output_type": "stream",
     "text": [
      "Percent of people ever married (full dataset): 64.37\n",
      "Percent of people ever married (only those with stroke): 89.78\n"
     ]
    }
   ],
   "source": [
    "full_dataset_ever_married_percent_yes = round((27938 / (15462+27938)) * 100, 2)\n",
    "stroke_true_ever_married_percent_yes = round((703 / (80+703)) * 100, 2)\n",
    "\n",
    "print(f\"Percent of people ever married (full dataset): {full_dataset_ever_married_percent_yes}\")\n",
    "print(f\"Percent of people ever married (only those with stroke): {stroke_true_ever_married_percent_yes}\")"
   ]
  },
  {
   "cell_type": "code",
   "execution_count": 31,
   "metadata": {},
   "outputs": [
    {
     "name": "stdout",
     "output_type": "stream",
     "text": [
      "Private          24834\n",
      "Self-employed     6793\n",
      "children          6156\n",
      "Govt_job          5440\n",
      "Never_worked       177\n",
      "Name: work_type, dtype: int64 \n",
      "\n",
      "Private          441\n",
      "Self-employed    251\n",
      "Govt_job          89\n",
      "children           2\n",
      "Name: work_type, dtype: int64\n"
     ]
    }
   ],
   "source": [
    "print(stroke_data_clean[\"work_type\"].value_counts(), \"\\n\")\n",
    "print(stroke_data_clean[stroke_data_clean[\"stroke\"] == 1][\"work_type\"].value_counts())"
   ]
  },
  {
   "cell_type": "code",
   "execution_count": 32,
   "metadata": {},
   "outputs": [
    {
     "name": "stdout",
     "output_type": "stream",
     "text": [
      "Percent of people work type private (full dataset): 57.22\n",
      "Percent of people work type private (only those with stroke): 56.32\n",
      "\n",
      "Percent of people work type self employed (full dataset): 15.65\n",
      "Percent of people work type self employed (only those with stroke): 32.06\n",
      "\n",
      "Percent of people work type children (full dataset): 14.18\n",
      "Percent of people work type children (only those with stroke): 0.26\n",
      "\n",
      "Percent of people work type govt job (full dataset): 12.53\n",
      "Percent of people work type govt job (only those with stroke): 11.37\n"
     ]
    }
   ],
   "source": [
    "full_data_work_type_percent_private = round((24834 / (24834 + 6793 + 6156 + 5440 + 177)) * 100, 2)\n",
    "full_data_work_type_percent_self_employed = round((6793 / (24834 + 6793 + 6156 + 5440 + 177)) * 100, 2)\n",
    "full_data_work_type_percent_children = round((6156 / (24834 + 6793 + 6156 + 5440 + 177)) * 100, 2)\n",
    "full_data_work_type_percent_govt_job = round((5440 / (24834 + 6793 + 6156 + 5440 + 177)) * 100, 2)\n",
    "\n",
    "stroke_true_work_type_percent_private = round((441 / (441 + 251 + 89 + 2)) * 100, 2)\n",
    "stroke_true_work_type_percent_self_employed = round((251 / (441 + 251 + 89 + 2)) * 100, 2)\n",
    "stroke_true_work_type_percent_govt_job = round((89 / (441 + 251 + 89 + 2)) * 100, 2)\n",
    "stroke_true_work_type_percent_children = round((2 / (441 + 251 + 89 + 2)) * 100, 2)\n",
    "\n",
    "print(f\"Percent of people work type private (full dataset): {full_data_work_type_percent_private}\")\n",
    "print(f\"Percent of people work type private (only those with stroke): {stroke_true_work_type_percent_private}\")\n",
    "print()\n",
    "print(f\"Percent of people work type self employed (full dataset): {full_data_work_type_percent_self_employed}\")\n",
    "print(f\"Percent of people work type self employed (only those with stroke): {stroke_true_work_type_percent_self_employed}\")\n",
    "print()\n",
    "print(f\"Percent of people work type children (full dataset): {full_data_work_type_percent_children}\")\n",
    "print(f\"Percent of people work type children (only those with stroke): {stroke_true_work_type_percent_children}\")\n",
    "print()\n",
    "print(f\"Percent of people work type govt job (full dataset): {full_data_work_type_percent_govt_job}\")\n",
    "print(f\"Percent of people work type govt job (only those with stroke): {stroke_true_work_type_percent_govt_job}\")"
   ]
  },
  {
   "cell_type": "code",
   "execution_count": 33,
   "metadata": {},
   "outputs": [
    {
     "name": "stdout",
     "output_type": "stream",
     "text": [
      "Urban    21756\n",
      "Rural    21644\n",
      "Name: Residence_type, dtype: int64 \n",
      "\n",
      "Urban    399\n",
      "Rural    384\n",
      "Name: Residence_type, dtype: int64\n"
     ]
    }
   ],
   "source": [
    "print(stroke_data_clean[\"Residence_type\"].value_counts(), \"\\n\")\n",
    "print(stroke_data_clean[stroke_data_clean[\"stroke\"] == 1][\"Residence_type\"].value_counts())"
   ]
  },
  {
   "cell_type": "code",
   "execution_count": 34,
   "metadata": {},
   "outputs": [
    {
     "name": "stdout",
     "output_type": "stream",
     "text": [
      "Percent of people residence type urban (full dataset): 50.13\n",
      "Percent of people residence type urban (only those with stroke): 50.96\n",
      "\n",
      "Percent of people residence type rural (full dataset): 49.87\n",
      "Percent of people residence type rural (only those with stroke): 49.04\n"
     ]
    }
   ],
   "source": [
    "full_data_residence_type_percent_urban = round((21756 / (21756 + 21644)) * 100, 2)\n",
    "full_data_residence_type_percent_rural = round((21644 / (21756 + 21644)) * 100, 2)\n",
    "stroke_true_resident_type_percent_urban = round((399 / (399 + 384)) * 100, 2)\n",
    "stroke_true_resident_type_percent_rural = round((384 / (399 + 384)) * 100, 2)\n",
    "\n",
    "print(f\"Percent of people residence type urban (full dataset): {full_data_residence_type_percent_urban}\")\n",
    "print(f\"Percent of people residence type urban (only those with stroke): {stroke_true_resident_type_percent_urban}\")\n",
    "print()\n",
    "print(f\"Percent of people residence type rural (full dataset): {full_data_residence_type_percent_rural}\")\n",
    "print(f\"Percent of people residence type rural (only those with stroke): {stroke_true_resident_type_percent_rural}\")"
   ]
  },
  {
   "cell_type": "code",
   "execution_count": 35,
   "metadata": {},
   "outputs": [
    {
     "name": "stdout",
     "output_type": "stream",
     "text": [
      "Assume NaN is \"smokes\"\n",
      "smokes             19854\n",
      "never smoked       16053\n",
      "formerly smoked     7493\n",
      "Name: smoking_status, dtype: int64 \n",
      "\n",
      "never smoked       284\n",
      "smokes             278\n",
      "formerly smoked    221\n",
      "Name: smoking_status, dtype: int64\n",
      "\n",
      " ---------------------------------------------------------------------------------------------------- \n",
      "\n",
      "Assume NaN is \"never smoked\"\n",
      "never smoked       29345\n",
      "formerly smoked     7493\n",
      "smokes              6562\n",
      "Name: smoking_status, dtype: int64 \n",
      "\n",
      "never smoked       429\n",
      "formerly smoked    221\n",
      "smokes             133\n",
      "Name: smoking_status, dtype: int64\n"
     ]
    }
   ],
   "source": [
    "print(\"Assume NaN is \\\"smokes\\\"\")\n",
    "print(stroke_data_clean_assume_smokes[\"smoking_status\"].value_counts(), \"\\n\")\n",
    "print(stroke_data_clean_assume_smokes[stroke_data_clean_assume_smokes[\"stroke\"] == 1][\"smoking_status\"].value_counts())\n",
    "print(\"\\n\", 100*\"-\", \"\\n\")\n",
    "print(\"Assume NaN is \\\"never smoked\\\"\")\n",
    "print(stroke_data_clean_assume_never_smoked[\"smoking_status\"].value_counts(), \"\\n\")\n",
    "print(stroke_data_clean_assume_never_smoked[stroke_data_clean_assume_never_smoked[\"stroke\"] == 1][\"smoking_status\"].value_counts())"
   ]
  },
  {
   "cell_type": "code",
   "execution_count": 39,
   "metadata": {},
   "outputs": [
    {
     "name": "stdout",
     "output_type": "stream",
     "text": [
      "Percent of people smokes (full dataset / NaN filled with smokes): 45.75\n",
      "Percent of people smokes (only those who with stroke / NaN filled with smokes): 35.5\n",
      "\n",
      "Percent of people never smoked (full dataset / NaN filled with smokes): 36.99\n",
      "Percent of people never smoked (only those with stroke / NaN filled with smokes): 36.27\n",
      "\n",
      "Percent of people formerly smoked (full dataset / NaN filled with smokes): 17.26\n",
      "Percent of people formerly smoked (only those with stroke / NaN filled with smokes): 28.22\n",
      "\n",
      " ---------------------------------------------------------------------------------------------------- \n",
      "\n",
      "Percent of people smokes (full dataset / NaN filled with never smoked): 15.119815668202765\n",
      "Percent of people smokes (only those who with stroke / NaN filled with never smoked): 16.99\n",
      "\n",
      "Percent of people never smoked (full dataset / NaN filled with never smoked): 15.119815668202765\n",
      "Percent of people never smoked (only those who with stroke / NaN filled with never smoked): 54.79\n",
      "\n",
      "Percent of people formerly smoked (full dataset / NaN filled with never smoked): 15.119815668202765\n",
      "Percent of people formerly smoked (only those who with stroke / NaN filled with never smoked): 28.22\n"
     ]
    }
   ],
   "source": [
    "full_data_assume_smokes_smoking_status_percent_smokes = round((19854 / (19854 + 16053 + 7493)) * 100, 2)\n",
    "full_data_assume_smokes_smoking_status_percent_never_smoked = round((16053 / (19854 + 16053 + 7493)) * 100, 2)\n",
    "full_data_assume_smokes_smoking_status_percent_formerly_smoked = round((7493 / (19854 + 16053 + 7493)) * 100, 2)\n",
    "\n",
    "stroke_true_assume_smokes_smoking_status_percent_smokes = round((278 / (284 + 278 + 221)) * 100, 2)\n",
    "stroke_true_assume_smokes_smoking_status_percent_never_smoked = round((284 / (284 + 278 + 221)) * 100, 2)\n",
    "stroke_true_assume_smokes_smoking_status_percent_formerly_smoked = round((221 / (284 + 278 + 221)) * 100, 2)\n",
    "\n",
    "print(f\"Percent of people smokes (full dataset / NaN filled with smokes): {full_data_assume_smokes_smoking_status_percent_smokes}\")\n",
    "print(f\"Percent of people smokes (only those who with stroke / NaN filled with smokes): {stroke_true_assume_smokes_smoking_status_percent_smokes}\")\n",
    "print()\n",
    "\n",
    "print(f\"Percent of people never smoked (full dataset / NaN filled with smokes): {full_data_assume_smokes_smoking_status_percent_never_smoked}\")\n",
    "print(f\"Percent of people never smoked (only those with stroke / NaN filled with smokes): {stroke_true_assume_smokes_smoking_status_percent_never_smoked}\")\n",
    "print()\n",
    "\n",
    "print(f\"Percent of people formerly smoked (full dataset / NaN filled with smokes): {full_data_assume_smokes_smoking_status_percent_formerly_smoked}\")\n",
    "print(f\"Percent of people formerly smoked (only those with stroke / NaN filled with smokes): {stroke_true_assume_smokes_smoking_status_percent_formerly_smoked}\")\n",
    "\n",
    "print(\"\\n\", 100 * \"-\", \"\\n\")\n",
    "\n",
    "full_data_assume_never_smoked_smoking_status_percent_smokes = (6562 / (29345 + 7493 + 6562)) * 100\n",
    "full_data_assume_never_smoked_smoking_status_percent_never_smoked = (6562 / (29345 + 7493 + 6562)) * 100\n",
    "full_data_assume_never_smoked_smoking_status_percent_formerly_smoked = (6562 / (29345 + 7493 + 6562)) * 100\n",
    "\n",
    "stroke_true_assume_never_smoked_smoking_status_percent_smokes = round((133 / (429 + 221 + 133)) * 100, 2)\n",
    "stroke_true_assume_never_smoked_smoking_status_percent_never_smoked = round((429 / (429 + 221 + 133)) * 100, 2)\n",
    "stroke_true_assume_never_smoked_smoking_status_percent_formerly_smoked = round((221 / (429 + 221 + 133)) * 100, 2)\n",
    "\n",
    "print(f\"Percent of people smokes (full dataset / NaN filled with never smoked): {full_data_assume_never_smoked_smoking_status_percent_smokes}\")\n",
    "print(f\"Percent of people smokes (only those who with stroke / NaN filled with never smoked): {stroke_true_assume_never_smoked_smoking_status_percent_smokes}\")\n",
    "print()\n",
    "\n",
    "print(f\"Percent of people never smoked (full dataset / NaN filled with never smoked): {full_data_assume_never_smoked_smoking_status_percent_never_smoked}\")\n",
    "print(f\"Percent of people never smoked (only those who with stroke / NaN filled with never smoked): {stroke_true_assume_never_smoked_smoking_status_percent_never_smoked}\")\n",
    "print()\n",
    "\n",
    "print(f\"Percent of people formerly smoked (full dataset / NaN filled with never smoked): {full_data_assume_never_smoked_smoking_status_percent_formerly_smoked}\")\n",
    "print(f\"Percent of people formerly smoked (only those who with stroke / NaN filled with never smoked): {stroke_true_assume_never_smoked_smoking_status_percent_formerly_smoked}\")"
   ]
  },
  {
   "cell_type": "markdown",
   "metadata": {},
   "source": [
    "#### Observations:\n",
    "\n",
    "1. Despite making up only about 40.84% of the complete dataset, males makes up about 44.96% of those who had a stroke.\n",
    "2. Despite making up only about 9.36% of the complete dataset, those with hypertension make up about 25.54% of those who had a stroke.\n",
    "3. Despite making up only about 4.75% of the complete dataset, those with heart diease make up about 22.62% of those who had a stroke.\n",
    "4. Despite making up only about 64.37% of the complete dataset, those who have ever been married make up about 89.78% of those who had a stroke.\n",
    "5. Despite making up only about 15.65% of the complete dataset, those who are self employed make up about 32.06% of those who had a stroke.\n",
    "6. Despite making up as much as about 14.18% of the complete dataset, those who work with children make up only about 0.26% of those who had a stroke.\n",
    "\n",
    "#### Concerning smoking_status,\n",
    "If we assume that NaN values correspond to \"smokes,\" the \"smokes\" group makes up the largest amount of people when looking at the entire dataset, and if we assume that NaN values correspond to \"never smoked,\" the \"never smoked\" group makes up the largest amount of people when looking at the entire dataset.\n",
    "\n",
    "However, when focusing on just the subset of people that had a stroke, if we assume that NaN values correspond to \"smokes,\" there is a thin margin between the number of people of have never smoked and those who do smoke; if we assume \"never smoked\" there is a wide margin between these two groups.  Either way though, the \"never smoked\" group makes up the largest amount of people.\n",
    "\n",
    "Regardless of what we assume NaN values to correspond to, more people who have never smoked had a stroke than those who do smoke.  The only difference is how wide the margin between the two groups is.\n",
    "\n",
    "#### Things to keep in mind:\n",
    "1. When looking at the full dataset, the graphs showing residence type shows an almost 50/50 split between people with an urban residence type and those with a rural residence type.  When we filter this to only those who had a stroke, the graph does not appear to show a 50/50 split, however, after examing the actual percentages, the change in percentages in insignificant (less than 1%).\n",
    "\n",
    "#### Next steps:\n",
    "1. From observations 5 and 6, we wonder whether people who are self employed lack employer-provided health coverage and are thus more prone to having a stroke.  We also wonder whether people who work with children advocate- and therefore live- a \"healthy\" lifestyle, and are thus less prone to having a stroke.  These are two simple possible explanations that come to mind.  We consider condensing the groups in work_type down to \"self employed,\" \"children\" and \"other.\"  We consider the percent-changes in every other group to be insignificant."
   ]
  },
  {
   "cell_type": "markdown",
   "metadata": {},
   "source": [
    "### Numerical Analysis"
   ]
  },
  {
   "cell_type": "code",
   "execution_count": null,
   "metadata": {},
   "outputs": [],
   "source": [
    "# Get kdeplot for each possible numerical feature\n",
    "for possible_feature in possible_numerical_features:\n",
    "    sns.kdeplot(stroke_data_clean[possible_feature])\n",
    "    plt.title(f\"Feature: {possible_feature}\\nMode: {round(stroke_data_clean.mode()[possible_feature][0], 2)}\")\n",
    "    plt.show()"
   ]
  },
  {
   "cell_type": "markdown",
   "metadata": {},
   "source": [
    "#### From the KDE plots above, we notice that,\n",
    "\n",
    "1. Most samples appear to have an age in the 50s.\n",
    "2. Most samples have an average glucose level (AVG) a little less than 100, perhaps around 80-90.  The frequency of AVGs drop sharply after this value, though there is a slight spike in frequency for individuals with an average glucose level just over 200.\n",
    "3. Most samples have an average bmi somewhere around 30."
   ]
  },
  {
   "cell_type": "code",
   "execution_count": null,
   "metadata": {},
   "outputs": [],
   "source": [
    "for possible_feature in possible_numerical_features:\n",
    "    sns.regplot(x=possible_feature, y=\"stroke\", data=stroke_data_clean, fit_reg=False, y_jitter=0.1)\n",
    "    plt.title(f\"Individuals who had a stroke based on {possible_feature}\")\n",
    "    \n",
    "    # Find the minimum and maximum values from the current column\n",
    "    # in order to calculate the range\n",
    "    # Divide this range by a small number to set a new step-size for the x-axis\n",
    "    column_max = stroke_data_clean[possible_feature].max()\n",
    "    column_min = stroke_data_clean[possible_feature].min()\n",
    "    column_range = column_max - column_min\n",
    "    \n",
    "    # Divide the column range by 10 for the plot showing avg_glucose_level,\n",
    "    # otherwise the step-size would be too low and the x-axis would be unreadable.\n",
    "    # We still want to divide the range by 5 to find the step-size for the other graphs,\n",
    "    # as more x-ticks help us to more clearly see where the data lies.\n",
    "    if possible_feature == \"avg_glucose_level\":\n",
    "        plt.locator_params(nbins=column_range/10)\n",
    "    else: \n",
    "        plt.locator_params(nbins=column_range/5)\n",
    "    \n",
    "    plt.grid()\n",
    "    plt.show()"
   ]
  },
  {
   "cell_type": "markdown",
   "metadata": {},
   "source": [
    "For bmi (stroke=0), count how many values are 1 standard deviation above/below the mean, 2 standard deviations above/below the mean, and 3 standard deviations above/below the mean.\n",
    "\n",
    "Drop dara appropriately."
   ]
  },
  {
   "cell_type": "markdown",
   "metadata": {},
   "source": [
    "#### From the regplots above, we notice that indivuals who did not have a stroke could be any age, and have any average glucose level (AVG) or BMI.  However,\n",
    "\n",
    "1. Individuals who did have a stroke were heavily concentrated in the higher age-group.  Very few indivduals under the age of 40 had a stroke, and the \"concentration\" really starts breaking up below age 50.\n",
    "2. Individuals who did have a stroke are heavily concentrated at an AVG of less than about 120, or an AVG of greater than about 180 .  There seems to be a gap where much fewer indivduals with an AVG between these two values had a stroke.\n",
    "3. Individudals who did have a stroke are heavily concentrated between a BMI of about 20 and 40, with a decent but smaller amount of people having BMIs exceeding 40.  Very few individuals with a BMI less than 20 had a stroke."
   ]
  },
  {
   "cell_type": "markdown",
   "metadata": {},
   "source": [
    "##### The strange gap of values for average glucose levels between about 120 and 180 concerns us.  We will breifly take a look at how these graphs would look, had we not dropped any data from the dataset."
   ]
  },
  {
   "cell_type": "code",
   "execution_count": null,
   "metadata": {},
   "outputs": [],
   "source": [
    "# Create dataframe from local csv file\n",
    "original_stroke_data =pd.read_csv('../Data/train_2v.csv')"
   ]
  },
  {
   "cell_type": "code",
   "execution_count": null,
   "metadata": {},
   "outputs": [],
   "source": [
    "# Get shape of dataframe\n",
    "original_stroke_data.shape"
   ]
  },
  {
   "cell_type": "code",
   "execution_count": null,
   "metadata": {},
   "outputs": [],
   "source": [
    "# Check for NaN values\n",
    "original_stroke_data.isna().sum()"
   ]
  },
  {
   "cell_type": "code",
   "execution_count": null,
   "metadata": {},
   "outputs": [],
   "source": [
    "del original_stroke_data[\"id\"]\n",
    "original_stroke_data.head()"
   ]
  },
  {
   "cell_type": "markdown",
   "metadata": {},
   "source": [
    "### Categorical Analysis"
   ]
  },
  {
   "cell_type": "code",
   "execution_count": null,
   "metadata": {
    "scrolled": true
   },
   "outputs": [],
   "source": [
    "# Define a subplot so we can see each plot after data-cleansing compared to the original dataset\n",
    "plt.subplots(figsize=(30,40))\n",
    "\n",
    "# Define an iterator to place each sublplot in the right place\n",
    "i = 1\n",
    "\n",
    "for possible_feature in possible_categorical_features:\n",
    "    \n",
    "    plt.subplot(7,2,i)\n",
    "    sns.countplot(possible_feature, data=stroke_data_clean)\n",
    "    plt.title(\"After data-cleansing\")\n",
    "    \n",
    "    plt.subplot(7,2,i+1)\n",
    "    sns.countplot(possible_feature, data=stroke_data_original)\n",
    "    plt.title(\"Original\")\n",
    "    \n",
    "    # This plot is comprised of 3 rows and two columns.\n",
    "    # When placing each subplot we must specify it's position on the full plot.\n",
    "    # We place each subplot with the syntax (\"row\", \"column\", \"position\").\n",
    "    # The first subplot (position 1) falls in the first column of the first row.\n",
    "    # The next subplot (position 2) falls in the next column of the first row.\n",
    "    # The next subplot (position 3) falls in the first column of the second row.\n",
    "    # This pattern continues.\n",
    "    # We have two columnns,\n",
    "    # so the graph showing the data after data-cleansing will be in the first column (odd-numberd position),\n",
    "    # and the graph showing the data from the original dataset will be in the second column (even-numbered position).\n",
    "    # We then place graphs after data-cleansing with the syntax (2, 3, i),\n",
    "    # and we place graphs showing original data with the syntax (2, 3, i+1).\n",
    "    # We therefore increment our iterator by 2 to preserve its parity.\n",
    "    i += 2"
   ]
  },
  {
   "cell_type": "markdown",
   "metadata": {},
   "source": [
    "##### We can safely assume that dropping NaN data did not have a drastic effect on categorical data."
   ]
  },
  {
   "cell_type": "markdown",
   "metadata": {},
   "source": [
    "### Numerical Analysis"
   ]
  },
  {
   "cell_type": "code",
   "execution_count": null,
   "metadata": {},
   "outputs": [],
   "source": [
    "# Define a subplot so we can see each plot after data-cleansing compared to the original dataset\n",
    "plt.subplots(figsize=(20,25))\n",
    "\n",
    "# Define an iterator to place each sublplot in the right place\n",
    "i = 1\n",
    "\n",
    "for possible_feature in possible_numerical_features:\n",
    "    \n",
    "    plt.subplot(3,2,i)\n",
    "    sns.regplot(x=possible_feature, y=\"stroke\", data=stroke_data_clean, fit_reg=False, y_jitter=0.1)\n",
    "    plt.title(\"After data-cleansing\")\n",
    "    plt.grid()\n",
    "    \n",
    "    plt.subplot(3, 2, i+1)\n",
    "    sns.regplot(x=possible_feature, y=\"stroke\", data=stroke_data_original, fit_reg=False, y_jitter=0.1)\n",
    "    plt.title(\"Original\")\n",
    "    plt.grid()\n",
    "    \n",
    "    # Find the minimum and maximum values from the current column\n",
    "    # in order to calculate the range\n",
    "    # Divide this range by a small number to set a new step-size for the x-axis\n",
    "    column_max = stroke_data_clean[possible_feature].max()\n",
    "    column_min = stroke_data_clean[possible_feature].min()\n",
    "    column_range = column_max - column_min\n",
    "    \n",
    "    # Divide the column range by 10 for the plot showing avg_glucose_level,\n",
    "    # otherwise the step-size would be too low and the x-axis would be unreadable.\n",
    "    # We still want to divide the range by 5 to find the step-size for the other graphs,\n",
    "    # as more x-ticks help us to more clearly see where the data lies.\n",
    "    if possible_feature == \"avg_glucose_level\":\n",
    "        plt.locator_params(nbins=column_range/10)\n",
    "    else: \n",
    "        plt.locator_params(nbins=column_range/5)\n",
    "    \n",
    "#     plt.grid()\n",
    "#     plt.show()\n",
    "    \n",
    "    # This plot is comprised of 3 rows and two columns.\n",
    "    # When placing each subplot we must specify it's position on the full plot.\n",
    "    # We place each subplot with the syntax (\"row\", \"column\", \"position\").\n",
    "    # The first subplot (position 1) falls in the first column of the first row.\n",
    "    # The next subplot (position 2) falls in the next column of the first row.\n",
    "    # The next subplot (position 3) falls in the first column of the second row.\n",
    "    # This pattern continues.\n",
    "    # We have two columnns,\n",
    "    # so the graph showing the data after data-cleansing will be in the first column (odd-numberd position),\n",
    "    # and the graph showing the data from the original dataset will be in the second column (even-numbered position).\n",
    "    # We then place graphs after data-cleansing with the syntax (2, 3, i),\n",
    "    # and we place graphs showing original data with the syntax (2, 3, i+1).\n",
    "    # We therefore increment our iterator by 2 to preserve its parity.\n",
    "    i += 2"
   ]
  },
  {
   "cell_type": "markdown",
   "metadata": {},
   "source": [
    "##### We can safely assume that dropping NaN data did not have a drastic effect on numerical data.  The main thing we were looking for is whether dropping the data caused the strange gap between average glucose levels of 120 and 180.  This gap is also present in the original data."
   ]
  },
  {
   "cell_type": "markdown",
   "metadata": {},
   "source": [
    "### Further data analysis"
   ]
  },
  {
   "cell_type": "code",
   "execution_count": null,
   "metadata": {},
   "outputs": [],
   "source": [
    "for possible_feature in possible_categorical_features:\n",
    "    sns.violinplot(x=possible_feature, y=\"stroke\", data=stroke_data_clean, hue=\"gender\")\n",
    "    plt.show()"
   ]
  },
  {
   "cell_type": "markdown",
   "metadata": {},
   "source": [
    "##### As we are working with highly imbalanced data, violin plots turn out to be pretty useless."
   ]
  },
  {
   "cell_type": "markdown",
   "metadata": {},
   "source": [
    "## 3. Model Building"
   ]
  },
  {
   "cell_type": "code",
   "execution_count": null,
   "metadata": {},
   "outputs": [],
   "source": [
    "# Transform data to binary encoded data\n",
    "stroke_data_binary_encoded = pd.get_dummies(stroke_data, columns=[\"gender\", \"ever_married\", \"work_type\", \"Residence_type\", \"smoking_status\"])\n",
    "stroke_data_binary_encoded.head()"
   ]
  },
  {
   "cell_type": "code",
   "execution_count": null,
   "metadata": {},
   "outputs": [],
   "source": [
    "# Create our features and label\n",
    "X = stroke_data_binary_encoded.drop([\"stroke\"], axis=1)\n",
    "y = stroke_data_binary_encoded[\"stroke\"].values.reshape(-1,1)"
   ]
  },
  {
   "cell_type": "code",
   "execution_count": null,
   "metadata": {},
   "outputs": [],
   "source": [
    "from sklearn.model_selection import train_test_split\n",
    "\n",
    "# Split the data into training and testing sets\n",
    "X_train, X_test, y_train, y_test = train_test_split(X, y, test_size = 0.2, random_state=42)"
   ]
  },
  {
   "cell_type": "code",
   "execution_count": null,
   "metadata": {},
   "outputs": [],
   "source": [
    "from sklearn.preprocessing import StandardScaler\n",
    "\n",
    "# Create scale for features and label\n",
    "X_scaler = StandardScaler().fit(X_train)\n",
    "y_scaler = StandardScaler().fit(y_train)\n",
    "\n",
    "# Scale features and labels\n",
    "X_train_scaled = X_scaler.transform(X_train)\n",
    "X_test_scaled = X_scaler.transform(X_test)\n",
    "y_train_scaled = y_scaler.transform(y_train)\n",
    "y_test_scaled = y_scaler.transform(y_test)"
   ]
  }
 ],
 "metadata": {
  "kernelspec": {
   "display_name": "Python 3",
   "language": "python",
   "name": "python3"
  },
  "language_info": {
   "codemirror_mode": {
    "name": "ipython",
    "version": 3
   },
   "file_extension": ".py",
   "mimetype": "text/x-python",
   "name": "python",
   "nbconvert_exporter": "python",
   "pygments_lexer": "ipython3",
   "version": "3.6.5"
  }
 },
 "nbformat": 4,
 "nbformat_minor": 2
}
